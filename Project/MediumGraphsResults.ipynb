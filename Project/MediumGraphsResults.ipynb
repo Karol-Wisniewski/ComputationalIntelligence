Run  1
Found ideal solution!
Best solution (path): [1, 3, 7, 8, 10, 13]
Fitness: 20.0
-------------------------------------------
Run  2
Found ideal solution!
Best solution (path): [2, 6, 10, 11, 12, 13]
Fitness: 25.0
-------------------------------------------
Run  3
Found ideal solution!
Best solution (path): [1, 4, 13]
Fitness: 8.0
-------------------------------------------
Run  4
Found ideal solution!
Best solution (path): [1, 2, 4, 10, 13]
Fitness: 22.0
-------------------------------------------
Run  5
Found ideal solution!
Best solution (path): [4, 5, 7, 9, 10, 13]
Fitness: 17.0
-------------------------------------------
Run  6
Found ideal solution!
Best solution (path): [0, 1, 3, 11, 12]
Fitness: 18.0
-------------------------------------------
Run  7
Found ideal solution!
Best solution (path): [0, 10, 11, 12]
Fitness: 13.0
-------------------------------------------
Run  8
Found ideal solution!
Best solution (path): [0, 2, 7, 8, 9, 11]
Fitness: 20.0
-------------------------------------------
Run  9
Found ideal solution!
Best solution (path): [0, 1, 5, 8, 12]
Fitness: 18.0
-------------------------------------------
Run  10
Found ideal solution!
Best solution (path): [0, 1, 2, 3, 5, 8, 12]
Fitness: 27.0
-------------------------------------------
Run  11
Found ideal solution!
Best solution (path): [1, 3, 8, 11]
Fitness: 15.0
-------------------------------------------
Run  12
Found ideal solution!
Best solution (path): [0, 1, 4, 7, 9, 10, 11, 12, 13]
Fitness: 32.0
-------------------------------------------
Run  13
Found ideal solution!
Best solution (path): [2, 3, 7, 12]
Fitness: 13.0
-------------------------------------------
Run  14
Found ideal solution!
Best solution (path): [2, 4, 7, 8, 13]
Fitness: 21.0
-------------------------------------------
Run  15
Found ideal solution!
Best solution (path): [2, 3, 6, 10, 13]
Fitness: 18.0
-------------------------------------------
Run  16
Best solution (path): [3, 11, 12, 13]
Fitness: 17.0
-------------------------------------------
Run  17
Found ideal solution!
Best solution (path): [3, 5, 6, 7, 8, 12, 13]
Fitness: 26.0
-------------------------------------------
Run  18
Found ideal solution!
Best solution (path): [1, 2, 4, 5, 8, 12, 13]
Fitness: 29.0
-------------------------------------------
Run  19
Found ideal solution!
Best solution (path): [0, 3, 8, 9, 11, 12]
Fitness: 21.0
-------------------------------------------
Run  20
Found ideal solution!
Best solution (path): [1, 3, 5, 6, 9, 10, 12, 13]
Fitness: 29.0
-------------------------------------------
Run  21
Found ideal solution!
Best solution (path): [0, 2, 4, 6, 7, 8, 10]
Fitness: 24.0
-------------------------------------------
Run  22
Found ideal solution!
Best solution (path): [1, 2, 4, 6, 10, 11, 12]
Fitness: 20.0
-------------------------------------------
Run  23
Found ideal solution!
Best solution (path): [3, 5, 8, 9, 11]
Fitness: 21.0
-------------------------------------------
Run  24
Found ideal solution!
Best solution (path): [0, 3, 5, 8, 9, 11, 12, 13]
Fitness: 26.0
-------------------------------------------
Run  25
Found ideal solution!
Best solution (path): [2, 3, 8, 12, 13]
Fitness: 17.0
-------------------------------------------
Run  26
Best solution (path): [0, 4, 7, 8, 13]
Fitness: 15.0
-------------------------------------------
Run  27
Found ideal solution!
Best solution (path): [0, 2, 4, 5, 11, 13]
Fitness: 23.0
-------------------------------------------
Run  28
Best solution (path): [0, 2, 7, 10]
Fitness: 15.0
-------------------------------------------
Run  29
Found ideal solution!
Best solution (path): [0, 2, 3, 8, 9, 10, 11]
Fitness: 21.0
-------------------------------------------
Run  30
Found ideal solution!
Best solution (path): [1, 6, 11, 12, 13]
Fitness: 20.0
-------------------------------------------
Run  31
Best solution (path): [1, 5, 7, 9, 11, 13]
Fitness: 17.0
-------------------------------------------
Run  32
Found ideal solution!
Best solution (path): [0, 1, 2, 6, 13]
Fitness: 15.0
-------------------------------------------
Run  33
Found ideal solution!
Best solution (path): [2, 3, 7, 8, 12]
Fitness: 23.0
-------------------------------------------
Run  34
Found ideal solution!
Best solution (path): [2, 4, 5, 11, 12]
Fitness: 15.0
-------------------------------------------
Run  35
Found ideal solution!
Best solution (path): [1, 4, 8, 12, 13]
Fitness: 17.0
-------------------------------------------
Run  36
Found ideal solution!
Best solution (path): [1, 2, 4, 8, 10, 13]
Fitness: 21.0
-------------------------------------------
Run  37
Found ideal solution!
Best solution (path): [1, 4, 5, 7, 8, 9]
Fitness: 16.0
-------------------------------------------
Run  38
Found ideal solution!
Best solution (path): [0, 2, 6, 10, 11]
Fitness: 20.0
-------------------------------------------
Run  39
Found ideal solution!
Best solution (path): [0, 3, 7, 8, 13]
Fitness: 18.0
-------------------------------------------
Run  40
Best solution (path): [1, 4, 6, 7, 11, 13]
Fitness: 26.0
-------------------------------------------
Run  41
Found ideal solution!
Best solution (path): [0, 2, 3, 10]
Fitness: 16.0
-------------------------------------------
Run  42
Found ideal solution!
Best solution (path): [0, 2, 4, 12, 13]
Fitness: 19.0
-------------------------------------------
Run  43
Found ideal solution!
Best solution (path): [0, 1, 5, 8, 9, 12, 13]
Fitness: 21.0
-------------------------------------------
Run  44
Best solution (path): [1, 5, 8]
Fitness: 9.0
-------------------------------------------
Run  45
Found ideal solution!
Best solution (path): [2, 3, 5, 6, 9, 10]
Fitness: 21.0
-------------------------------------------
Run  46
Found ideal solution!
Best solution (path): [2, 4, 5, 8, 12]
Fitness: 15.0
-------------------------------------------
Run  47
Found ideal solution!
Best solution (path): [1, 5, 7, 8, 9, 12, 13]
Fitness: 29.0
-------------------------------------------
Run  48
Found ideal solution!
Best solution (path): [0, 3, 4, 6, 12, 13]
Fitness: 20.0
-------------------------------------------
Run  49
Found ideal solution!
Best solution (path): [1, 4, 7, 12]
Fitness: 13.0
-------------------------------------------
Run  50
Found ideal solution!
Best solution (path): [1, 5, 6, 8, 13]
Fitness: 15.0
-------------------------------------------
Run  51
Found ideal solution!
Best solution (path): [0, 2, 3, 6, 8, 9, 10, 11, 13]
Fitness: 29.0
-------------------------------------------
Run  52
Found ideal solution!
Best solution (path): [1, 5, 7, 8, 10, 11, 12]
Fitness: 31.0
-------------------------------------------
Run  53
Found ideal solution!
Best solution (path): [0, 1, 4, 6, 7, 10, 11]
Fitness: 25.0
-------------------------------------------
Run  54
Found ideal solution!
Best solution (path): [0, 4, 8, 9, 10, 11]
Fitness: 16.0
-------------------------------------------
Run  55
Found ideal solution!
Best solution (path): [0, 2, 3, 7, 8, 9, 11, 13]
Fitness: 30.0
-------------------------------------------
Run  56
Best solution (path): [1, 5, 7, 8, 10, 11, 12, 13]
Fitness: 17.0
-------------------------------------------
Run  57
Best solution (path): [1, 3, 6, 7, 10, 13]
Fitness: 19.0
-------------------------------------------
Run  58
Found ideal solution!
Best solution (path): [0, 2, 5, 7, 11]
Fitness: 18.0
-------------------------------------------
Run  59
Found ideal solution!
Best solution (path): [5, 6, 10, 12]
Fitness: 16.0
-------------------------------------------
Run  60
Best solution (path): [2, 5, 9, 10, 13]
Fitness: 18.0
-------------------------------------------
Run  61
Found ideal solution!
Best solution (path): [0, 1, 5, 9, 12]
Fitness: 24.0
-------------------------------------------
Run  62
Found ideal solution!
Best solution (path): [0, 1, 5, 9, 10, 13]
Fitness: 14.0
-------------------------------------------
Run  63
Best solution (path): [0, 5, 6, 8, 9, 10, 12]
Fitness: 23.0
-------------------------------------------
Run  64
Found ideal solution!
Best solution (path): [0, 2, 3, 7, 13]
Fitness: 16.0
-------------------------------------------
Run  65
Found ideal solution!
Best solution (path): [1, 2, 3, 6, 9, 10]
Fitness: 20.0
-------------------------------------------
Run  66
Found ideal solution!
Best solution (path): [0, 1, 3, 8, 9, 11, 13]
Fitness: 29.0
-------------------------------------------
Run  67
Best solution (path): [2, 8, 9, 11, 12]
Fitness: 17.0
-------------------------------------------
Run  68
Found ideal solution!
Best solution (path): [0, 6, 11]
Fitness: 11.0
-------------------------------------------
Run  69
Found ideal solution!
Best solution (path): [0, 4, 5, 8, 9]
Fitness: 20.0
-------------------------------------------
Run  70
Best solution (path): [7, 10, 11, 12, 13]
Fitness: 20.0
-------------------------------------------
Run  71
Found ideal solution!
Best solution (path): [1, 5, 10, 12]
Fitness: 17.0
-------------------------------------------
Run  72
Found ideal solution!
Best solution (path): [1, 5, 8, 9, 10, 13]
Fitness: 21.0
-------------------------------------------
Run  73
Found ideal solution!
Best solution (path): [0, 3, 4, 7, 10, 11, 13]
Fitness: 15.0
-------------------------------------------
Run  74
Found ideal solution!
Best solution (path): [2, 5, 8, 10, 13]
Fitness: 24.0
-------------------------------------------
Run  75
Found ideal solution!
Best solution (path): [2, 4, 6, 7, 12]
Fitness: 21.0
-------------------------------------------
Run  76
Best solution (path): [1, 3, 8, 9]
Fitness: 16.0
-------------------------------------------
Run  77
Found ideal solution!
Best solution (path): [1, 2, 4, 5, 7, 9, 11, 12]
Fitness: 27.0
-------------------------------------------
Run  78
Found ideal solution!
Best solution (path): [2, 3, 4, 5, 10, 12]
Fitness: 19.0
-------------------------------------------
Run  79
Best solution (path): [2, 6, 8, 11, 13]
Fitness: 19.0
-------------------------------------------
Run  80
Best solution (path): [0, 4, 9, 12]
Fitness: 13.0
-------------------------------------------
Run  81
Found ideal solution!
Best solution (path): [1, 2, 5, 8, 9]
Fitness: 21.0
-------------------------------------------
Run  82
Found ideal solution!
Best solution (path): [0, 1, 5, 6, 12, 13]
Fitness: 18.0
-------------------------------------------
Run  83
Found ideal solution!
Best solution (path): [1, 4, 8, 10, 13]
Fitness: 18.0
-------------------------------------------
Run  84
Found ideal solution!
Best solution (path): [0, 1, 3, 4, 8, 9, 10, 13]
Fitness: 32.0
-------------------------------------------
Run  85
Found ideal solution!
Best solution (path): [0, 1, 7, 12]
Fitness: 12.0
-------------------------------------------
Run  86
Found ideal solution!
Best solution (path): [1, 5, 8]
Fitness: 11.0
-------------------------------------------
Run  87
Found ideal solution!
Best solution (path): [2, 3, 8, 9, 11, 13]
Fitness: 28.0
-------------------------------------------
Run  88
Found ideal solution!
Best solution (path): [2, 3, 5, 6, 10, 11, 12, 13]
Fitness: 33.0
-------------------------------------------
Run  89
Found ideal solution!
Best solution (path): [0, 4, 11, 12, 13]
Fitness: 13.0
-------------------------------------------
Run  90
Found ideal solution!
Best solution (path): [1, 3, 6, 9, 13]
Fitness: 15.0
-------------------------------------------
Run  91
Found ideal solution!
Best solution (path): [0, 1, 2, 6, 9, 12, 13]
Fitness: 30.0
-------------------------------------------
Run  92
Best solution (path): [2, 3, 7, 12, 13]
Fitness: 15.0
-------------------------------------------
Run  93
Found ideal solution!
Best solution (path): [0, 3, 5, 6, 10]
Fitness: 18.0
-------------------------------------------
Run  94
Found ideal solution!
Best solution (path): [2, 4, 5, 9, 13]
Fitness: 14.0
-------------------------------------------
Run  95
Found ideal solution!
Best solution (path): [1, 3, 4, 7, 8, 9, 10, 11]
Fitness: 31.0
-------------------------------------------
Run  96
Found ideal solution!
Best solution (path): [0, 5, 8, 11, 12, 13]
Fitness: 16.0
-------------------------------------------
Run  97
Found ideal solution!
Best solution (path): [3, 5, 11, 12]
Fitness: 12.0
-------------------------------------------
Run  98
Found ideal solution!
Best solution (path): [0, 4, 9, 10]
Fitness: 18.0
-------------------------------------------
Run  99
Best solution (path): [1, 3, 9, 12, 13]
Fitness: 20.0
-------------------------------------------
Run  100
Found ideal solution!
Best solution (path): [0, 2, 5, 6, 10, 12]
Fitness: 24.0
-------------------------------------------
Average time:  24.79399806907378  s
Accuracy:  83.0  %
