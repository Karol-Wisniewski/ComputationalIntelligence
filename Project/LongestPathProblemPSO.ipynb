{
 "cells": [
  {
   "attachments": {},
   "cell_type": "markdown",
   "metadata": {},
   "source": [
    "Second part of the project is to implement the same solution to the problem but with different approach. This time, I used a PSO algorithm from pyswarms to solve it."
   ]
  },
  {
   "cell_type": "code",
   "execution_count": 142,
   "metadata": {},
   "outputs": [],
   "source": [
    "import networkx as nx\n",
    "import random\n",
    "import numpy as np\n",
    "import pyswarms as ps\n",
    "from pyswarms.utils.functions import single_obj as fx\n",
    "import matplotlib.pyplot as plt\n",
    "import time"
   ]
  },
  {
   "attachments": {},
   "cell_type": "markdown",
   "metadata": {},
   "source": [
    "Function that generates a graph with given number of nodes. There is a 30% chance that a node will have an edge to another node. Range of weights for each edge is [1, 6]. For testing purposes, the function also returns the longest path in the graph so we can later check if the algorithm found the ideal solution."
   ]
  },
  {
   "cell_type": "code",
   "execution_count": 143,
   "metadata": {},
   "outputs": [],
   "source": [
    "def generate_graph(number_of_nodes):\n",
    "    G = nx.DiGraph()\n",
    "\n",
    "    # Adding nodes\n",
    "    G.add_nodes_from(range(number_of_nodes))\n",
    "\n",
    "    # Adding edges with random weights between 1 and 6\n",
    "    for i in range(number_of_nodes - 1):\n",
    "        for j in range(i+1, number_of_nodes):\n",
    "            if random.random() < 0.3:\n",
    "                weight = random.randint(1, 6)\n",
    "                G.add_edge(i, j, weight=weight)\n",
    "                \n",
    "    longest_path = nx.dag_longest_path(G, weight='weight')\n",
    "    \n",
    "    return (G, longest_path)"
   ]
  },
  {
   "cell_type": "code",
   "execution_count": 144,
   "metadata": {},
   "outputs": [],
   "source": [
    "def draw_digraph(graph):\n",
    "    pos = nx.kamada_kawai_layout(graph)\n",
    "    nx.draw(graph, pos=pos, with_labels=True)\n",
    "    labels = nx.get_edge_attributes(graph, 'weight')\n",
    "    nx.draw_networkx_edge_labels(graph, pos, edge_labels=labels)\n",
    "    plt.show()"
   ]
  },
  {
   "attachments": {},
   "cell_type": "markdown",
   "metadata": {},
   "source": [
    "This function generates a matrix of connections between nodes. Row represents the first node and column represents the second node. The value of the cell is the weight of the connection between the nodes. If there is no connection between the nodes, the value of the cell is None."
   ]
  },
  {
   "cell_type": "code",
   "execution_count": 145,
   "metadata": {},
   "outputs": [],
   "source": [
    "def graph_to_distance_matrix(G):\n",
    "    number_of_nodes = G.number_of_nodes()\n",
    "    matrix = [[None for _ in range(number_of_nodes)] for _ in range(number_of_nodes)]\n",
    "\n",
    "    for i in range(number_of_nodes - 1):\n",
    "        for j in range(i + 1, number_of_nodes):\n",
    "            if G.has_edge(i, j):\n",
    "                matrix[i][j] = G[i][j]['weight']\n",
    "\n",
    "    return matrix"
   ]
  },
  {
   "cell_type": "code",
   "execution_count": 146,
   "metadata": {},
   "outputs": [],
   "source": [
    "# Example: [0, 1, 1, 0, 3, 3, 3, 2] -> [0, 1, 0, 3, 2]\n",
    "\n",
    "def delete_subsequent_duplicates(list):\n",
    "\treturn [list[i] for i in range(len(list)) if i == 0 or list[i] != list[i - 1]]"
   ]
  },
  {
   "attachments": {},
   "cell_type": "markdown",
   "metadata": {},
   "source": [
    "This function normalizes given path so it represents integers (nodes) instead of floats interpreted by PSO algorithm."
   ]
  },
  {
   "cell_type": "code",
   "execution_count": 147,
   "metadata": {},
   "outputs": [],
   "source": [
    "def normalize_position(position):\n",
    "\treturn delete_subsequent_duplicates([int(p) for p in position])"
   ]
  },
  {
   "attachments": {},
   "cell_type": "markdown",
   "metadata": {},
   "source": [
    "This function clears the path so it doesn't contain any connections that are not valid using the given matrix of connections."
   ]
  },
  {
   "cell_type": "code",
   "execution_count": 148,
   "metadata": {},
   "outputs": [],
   "source": [
    "def clear_path(path, distance):\n",
    "    current_node = path[0]\n",
    "    cleared_path = [current_node]\n",
    "    for node in path[1:]:\n",
    "        if distance[current_node][node] is None:\n",
    "            continue\n",
    "        cleared_path.append(node)\n",
    "        current_node = node\n",
    "    return cleared_path\n",
    "    "
   ]
  },
  {
   "attachments": {},
   "cell_type": "markdown",
   "metadata": {},
   "source": [
    "Fitness function iters through every positions provided by PSO. In each iteration it adds the weight of the connection between the current node and the next node to the total weight. In the end, it returns the total weight of the path divided by the length of the path. This way, the algorithm will try to find the shortest path (even if the wight is the highest possible). PSO searches for minimum by default, so we have to return an array of negative values."
   ]
  },
  {
   "cell_type": "code",
   "execution_count": 149,
   "metadata": {},
   "outputs": [],
   "source": [
    "def generate_fitness_function(distance_matrix):\n",
    "    \n",
    "    def fitness_function(positions):\n",
    "        costs = []\n",
    "\n",
    "        for position in positions:\n",
    "            path = clear_path(normalize_position(position), distance_matrix)\n",
    "\n",
    "            current_node = path[0]\n",
    "            path_cost = 0\n",
    "            for next_node in path[1:]:\n",
    "                path_cost += distance_matrix[current_node][next_node]\n",
    "                current_node = next_node\n",
    "\n",
    "            costs.append(path_cost / (1 + 0.1 *len(path))) # Punish longer pahts (not singnificantly because it might break the algorithm)\n",
    "        return np.array(costs) * -1\n",
    "    \n",
    "    return fitness_function"
   ]
  },
  {
   "attachments": {},
   "cell_type": "markdown",
   "metadata": {},
   "source": [
    "Declare the number of nodes in a graph:"
   ]
  },
  {
   "cell_type": "code",
   "execution_count": 150,
   "metadata": {},
   "outputs": [],
   "source": [
    "number_of_nodes = 8"
   ]
  },
  {
   "cell_type": "code",
   "execution_count": 151,
   "metadata": {},
   "outputs": [
    {
     "name": "stderr",
     "output_type": "stream",
     "text": [
      "2023-04-11 03:46:22,765 - pyswarms.single.global_best - INFO - Optimize for 900 iters with {'c1': 0.5, 'c2': 0.3, 'w': 0.9}\n"
     ]
    },
    {
     "name": "stdout",
     "output_type": "stream",
     "text": [
      "Ideal longest path: [0, 2, 6]\n",
      "Run  1\n"
     ]
    },
    {
     "name": "stderr",
     "output_type": "stream",
     "text": [
      "pyswarms.single.global_best: 100%|██████████|900/900, best_cost=-7.69\n",
      "2023-04-11 03:46:27,580 - pyswarms.single.global_best - INFO - Optimization finished | best cost: -7.692307692307692, best pos: [3.02048761 4.2319803  5.59870465 4.52904429 5.14468829 1.03490308\n",
      " 0.87616459 7.60595342]\n",
      "2023-04-11 03:46:27,629 - pyswarms.single.global_best - INFO - Optimize for 900 iters with {'c1': 0.5, 'c2': 0.3, 'w': 0.9}\n"
     ]
    },
    {
     "name": "stdout",
     "output_type": "stream",
     "text": [
      "Best solution (path): [3, 5, 7]\n",
      "Fitness: -7.692307692307692\n",
      "-------------------------------------------\n",
      "Ideal longest path: [0, 3, 6]\n",
      "Run  2\n"
     ]
    },
    {
     "name": "stderr",
     "output_type": "stream",
     "text": [
      "pyswarms.single.global_best: 100%|██████████|900/900, best_cost=-7.69\n",
      "2023-04-11 03:46:34,177 - pyswarms.single.global_best - INFO - Optimization finished | best cost: -7.692307692307692, best pos: [0.07775631 4.16130543 3.2399454  2.34374941 5.53855542 3.51486117\n",
      " 6.15870012 5.09118577]\n",
      "2023-04-11 03:46:34,260 - pyswarms.single.global_best - INFO - Optimize for 900 iters with {'c1': 0.5, 'c2': 0.3, 'w': 0.9}\n"
     ]
    },
    {
     "name": "stdout",
     "output_type": "stream",
     "text": [
      "Found ideal solution!\n",
      "Best solution (path): [0, 3, 6]\n",
      "Fitness: -7.692307692307692\n",
      "-------------------------------------------\n",
      "Ideal longest path: [3, 7]\n",
      "Run  3\n"
     ]
    },
    {
     "name": "stderr",
     "output_type": "stream",
     "text": [
      "pyswarms.single.global_best: 100%|██████████|900/900, best_cost=-4.17\n",
      "2023-04-11 03:46:41,030 - pyswarms.single.global_best - INFO - Optimization finished | best cost: -4.166666666666667, best pos: [3.87451232 7.1926856  0.65609009 5.08634871 4.10388835 0.3700439\n",
      " 4.92029408 7.87649387]\n",
      "2023-04-11 03:46:41,049 - pyswarms.single.global_best - INFO - Optimize for 900 iters with {'c1': 0.5, 'c2': 0.3, 'w': 0.9}\n"
     ]
    },
    {
     "name": "stdout",
     "output_type": "stream",
     "text": [
      "Found ideal solution!\n",
      "Best solution (path): [3, 7]\n",
      "Fitness: -4.166666666666667\n",
      "-------------------------------------------\n",
      "Ideal longest path: [0, 1, 3, 5]\n",
      "Run  4\n"
     ]
    },
    {
     "name": "stderr",
     "output_type": "stream",
     "text": [
      "pyswarms.single.global_best: 100%|██████████|900/900, best_cost=-12.1\n",
      "2023-04-11 03:46:45,751 - pyswarms.single.global_best - INFO - Optimization finished | best cost: -12.142857142857144, best pos: [0.21923488 5.26768187 1.07761561 3.50579184 4.09762861 4.45078834\n",
      " 5.92807501 1.1725282 ]\n",
      "2023-04-11 03:46:45,772 - pyswarms.single.global_best - INFO - Optimize for 900 iters with {'c1': 0.5, 'c2': 0.3, 'w': 0.9}\n"
     ]
    },
    {
     "name": "stdout",
     "output_type": "stream",
     "text": [
      "Found ideal solution!\n",
      "Best solution (path): [0, 1, 3, 5]\n",
      "Fitness: -12.142857142857144\n",
      "-------------------------------------------\n",
      "Ideal longest path: [2, 4, 6, 7]\n",
      "Run  5\n"
     ]
    },
    {
     "name": "stderr",
     "output_type": "stream",
     "text": [
      "pyswarms.single.global_best: 100%|██████████|900/900, best_cost=-10\n",
      "2023-04-11 03:46:50,682 - pyswarms.single.global_best - INFO - Optimization finished | best cost: -10.0, best pos: [2.5438818  4.28622307 6.2274907  7.39450861 2.89898325 2.94856435\n",
      " 3.32798859 0.90913346]\n"
     ]
    },
    {
     "name": "stdout",
     "output_type": "stream",
     "text": [
      "Found ideal solution!\n",
      "Best solution (path): [2, 4, 6, 7]\n",
      "Fitness: -10.0\n",
      "-------------------------------------------\n",
      "Average time of finding a single ideal solution:  5.770875334739685  s\n",
      "Accuracy:  80.0  %\n"
     ]
    }
   ],
   "source": [
    "# Particle swarm optimization\n",
    "options = {'c1': 0.5, 'c2': 0.3, 'w': 0.9}\n",
    "n_particles = 700\n",
    "n_iterations = 900\n",
    "\n",
    "\n",
    "times = []\n",
    "correct_solutions = 0\n",
    "iterations = 5\n",
    "\n",
    "# We run the algorithm multiple times, each time generating a new graph and its ideal solution.\n",
    "for i in range(iterations):\n",
    "    # Generate graph and ideal solution\n",
    "    G, ideal_longest_path = generate_graph(number_of_nodes)\n",
    "    \n",
    "    # Define bounds\n",
    "    constraints = (np.zeros(G.number_of_nodes()), (G.number_of_nodes() - 0.0000001) * np.ones(G.number_of_nodes()))\n",
    "\n",
    "    print(\"Ideal longest path:\", ideal_longest_path)\n",
    "\n",
    "    # Convert graph to distance matrix\n",
    "    distance_matrix = graph_to_distance_matrix(G)\n",
    "    \n",
    "    print(\"Run \", i+1)\n",
    "    start = time.time()\n",
    "    optimizer = ps.single.GlobalBestPSO(n_particles=n_particles, dimensions=G.number_of_nodes(), options=options, bounds=constraints)\n",
    "    best_cost, best_pos = optimizer.optimize(generate_fitness_function(distance_matrix), iters=n_iterations)\n",
    "    end = time.time()\n",
    "    best_path = clear_path(normalize_position(best_pos), distance_matrix)\n",
    "\n",
    "    # If the solution is correct, we add the time it took to the list of times and increase the correct solutions counter.\n",
    "    if best_path == ideal_longest_path:\n",
    "        print(\"Found ideal solution!\")\n",
    "        correct_solutions += 1\n",
    "        times.append(end - start)\n",
    "        \n",
    "\n",
    "    print(\"Best solution (path):\",  best_path)\n",
    "    print(\"Fitness:\", best_cost)\n",
    "    print(\"-------------------------------------------\")\n",
    "    \n",
    "average_time = 0\n",
    "for time in times:\n",
    "    average_time += time\n",
    "if len(times) == 0:\n",
    "    print(\"No ideal solutions were found, so the average time of finding one is 0.\")\n",
    "else:\n",
    "    average_time = average_time / (len(times) )\n",
    "    print(\"Average time of finding a single ideal solution: \", average_time, \" s\")\n",
    "    \n",
    "# Accuracy is the percentage of times the algorithm found the ideal solution. We check it with the \"nx.dag_longest_path\" buit-in function.\n",
    "accuracy = (correct_solutions / iterations) * 100\n",
    "print(\"Accuracy: \", accuracy, \" %\")"
   ]
  },
  {
   "attachments": {},
   "cell_type": "markdown",
   "metadata": {},
   "source": [
    "Average time of finding ideal solutions and their percentage in all results for PSO (100 iterations):"
   ]
  },
  {
   "cell_type": "code",
   "execution_count": 152,
   "metadata": {},
   "outputs": [],
   "source": [
    "#   ---------------------------------------------------------------------------------------------------------\n",
    "#   |   Graph size   |   n_particles   |   n_iterations  |   Average time   |   Accuracy   |   Total time   | \n",
    "#   |-------------------------------------------------------------------------------------------------------|\n",
    "#   |   8            |   800           |   900           |   4.81s          |   92%        |   8m 1s        |\n",
    "#   |-------------------------------------------------------------------------------------------------------|\n",
    "#   |   14           |   1000          |   1100          |   11.68s         |   71%        |   19m 31s      |\n",
    "#   |-------------------------------------------------------------------------------------------------------|\n",
    "#   |   20           |   1200          |   1500          |   20.34s         |   38%        |   33m 49s      |\n",
    "#   ---------------------------------------------------------------------------------------------------------"
   ]
  },
  {
   "attachments": {},
   "cell_type": "markdown",
   "metadata": {},
   "source": [
    "Bibliography\n",
    "\n",
    "[1] https://pyswarms.readthedocs.io/en/latest/index.html\n",
    "\n",
    "[2] https://en.wikipedia.org/wiki/Particle_swarm_optimization"
   ]
  }
 ],
 "metadata": {
  "kernelspec": {
   "display_name": "Python 3",
   "language": "python",
   "name": "python3"
  },
  "language_info": {
   "codemirror_mode": {
    "name": "ipython",
    "version": 3
   },
   "file_extension": ".py",
   "mimetype": "text/x-python",
   "name": "python",
   "nbconvert_exporter": "python",
   "pygments_lexer": "ipython3",
   "version": "3.10.11"
  },
  "orig_nbformat": 4
 },
 "nbformat": 4,
 "nbformat_minor": 2
}
