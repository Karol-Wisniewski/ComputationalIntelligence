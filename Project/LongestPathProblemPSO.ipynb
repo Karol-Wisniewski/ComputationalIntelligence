{
 "cells": [
  {
   "cell_type": "code",
   "execution_count": 109,
   "metadata": {},
   "outputs": [],
   "source": [
    "import networkx as nx\n",
    "import random\n",
    "import numpy as np\n",
    "import pyswarms as ps\n",
    "from pyswarms.utils.functions import single_obj as fx"
   ]
  },
  {
   "cell_type": "code",
   "execution_count": 110,
   "metadata": {},
   "outputs": [],
   "source": [
    "def generate_graph(number_of_nodes):\n",
    "    G = nx.DiGraph()\n",
    "\n",
    "    # Adding nodes\n",
    "    G.add_nodes_from(range(number_of_nodes))\n",
    "\n",
    "    # Adding edges with random weights between 1 and 6\n",
    "    for i in range(number_of_nodes - 1):\n",
    "        for j in range(i+1, number_of_nodes):\n",
    "            if random.random() < 0.3:\n",
    "                weight = random.randint(1, 6)\n",
    "                G.add_edge(i, j, weight=weight)\n",
    "                \n",
    "    longest_path = nx.dag_longest_path(G, weight='weight')\n",
    "    \n",
    "    return [G, longest_path]"
   ]
  },
  {
   "cell_type": "code",
   "execution_count": 111,
   "metadata": {},
   "outputs": [],
   "source": [
    "def graph_to_distance_matrix(G):\n",
    "    number_of_nodes = G.number_of_nodes()\n",
    "    matrix = [[0 for _ in range(number_of_nodes)] for _ in range(number_of_nodes)]\n",
    "\n",
    "    for i in range(number_of_nodes - 1):\n",
    "        for j in range(i + 1, number_of_nodes):\n",
    "            if G.has_edge(i, j):\n",
    "                matrix[i][j] = G[i][j]['weight']\n",
    "            else:\n",
    "                matrix[i][j] = 0\n",
    "                matrix[j][i] = 0\n",
    "\n",
    "    return matrix"
   ]
  },
  {
   "cell_type": "code",
   "execution_count": 112,
   "metadata": {},
   "outputs": [],
   "source": [
    "def fitness_function(positions, distance_matrix):\n",
    "    costs = []\n",
    "\n",
    "    for position in positions:\n",
    "        path = [int(p) for p in np.round(position)]\n",
    "        path = list(dict.fromkeys(path))\n",
    "\n",
    "        if len(path) < 2:\n",
    "            costs.append(-1e8)\n",
    "            continue\n",
    "\n",
    "        path_cost = 0\n",
    "        for i in range(len(path) - 1):\n",
    "            path_cost += distance_matrix[path[i]][path[i + 1]]\n",
    "\n",
    "        costs.append(path_cost)\n",
    "\n",
    "    return np.array(costs)\n"
   ]
  },
  {
   "cell_type": "code",
   "execution_count": 113,
   "metadata": {},
   "outputs": [],
   "source": [
    "# Generate graph and ideal solution\n",
    "G, ideal_longest_path = generate_graph(10)\n",
    "\n",
    "# Convert graph to distance matrix\n",
    "distance_matrix = graph_to_distance_matrix(G)"
   ]
  },
  {
   "cell_type": "code",
   "execution_count": 114,
   "metadata": {},
   "outputs": [
    {
     "name": "stderr",
     "output_type": "stream",
     "text": [
      "2023-04-04 11:51:20,538 - pyswarms.single.global_best - INFO - Optimize for 500 iters with {'c1': 1.5, 'c2': 1.5, 'w': 0.9}\n",
      "pyswarms.single.global_best: 100%|██████████|500/500, best_cost=-19\n",
      "2023-04-04 11:51:22,367 - pyswarms.single.global_best - INFO - Optimization finished | best cost: -19.0, best pos: [5.55786083 8.45188155 6.17608126 1.6534039  3.98554835 2.86274008\n",
      " 8.31584828 4.88455881 1.81448258 8.94959215]\n"
     ]
    }
   ],
   "source": [
    "# Particle swarm optimization\n",
    "options = {'c1': 1.5, 'c2': 1.5, 'w': 0.9}\n",
    "n_particles = 200\n",
    "n_iterations = 500\n",
    "constraints = (np.zeros(G.number_of_nodes()), (G.number_of_nodes() - 1) * np.ones(G.number_of_nodes()))\n",
    "# optimizer = ps.single.GlobalBestPSO(n_particles=n_particles, dimensions=G.number_of_nodes(), options=options, bounds=constraints)\n",
    "optimizer = ps.single.GlobalBestPSO(n_particles=n_particles, dimensions=G.number_of_nodes(), options=options, bounds=constraints)\n",
    "# optimizer = ps.single.LocalBestPSO(n_particles=n_particles, dimensions=G.number_of_nodes(), options=options, bounds=constraints)\n",
    "best_cost, best_pos = optimizer.optimize(lambda x: -fitness_function(x, distance_matrix), iters=n_iterations)"
   ]
  },
  {
   "cell_type": "code",
   "execution_count": 115,
   "metadata": {},
   "outputs": [],
   "source": [
    "# Extract the longest path found by PSO\n",
    "longest_path_pso = [int(p) for p in np.round(best_pos)]\n",
    "longest_path_pso = list(dict.fromkeys(longest_path_pso))"
   ]
  },
  {
   "cell_type": "code",
   "execution_count": 116,
   "metadata": {},
   "outputs": [
    {
     "name": "stdout",
     "output_type": "stream",
     "text": [
      "Ideal longest path: [1, 3, 5, 7, 8]\n",
      "PSO longest path: [6, 8, 2, 4, 3, 5, 9]\n"
     ]
    }
   ],
   "source": [
    "# Compare results\n",
    "print(\"Ideal longest path:\", ideal_longest_path)\n",
    "print(\"PSO longest path:\", longest_path_pso)"
   ]
  }
 ],
 "metadata": {
  "kernelspec": {
   "display_name": "Python 3",
   "language": "python",
   "name": "python3"
  },
  "language_info": {
   "codemirror_mode": {
    "name": "ipython",
    "version": 3
   },
   "file_extension": ".py",
   "mimetype": "text/x-python",
   "name": "python",
   "nbconvert_exporter": "python",
   "pygments_lexer": "ipython3",
   "version": "3.10.10"
  },
  "orig_nbformat": 4
 },
 "nbformat": 4,
 "nbformat_minor": 2
}
