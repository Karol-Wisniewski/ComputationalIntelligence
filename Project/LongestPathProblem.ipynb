{
 "cells": [
  {
   "attachments": {},
   "cell_type": "markdown",
   "metadata": {},
   "source": [
    "The program is to find the longest possible path in a directed graph (doesn't have to be acyclic - the algorithm will try to do its best with it) crossing each node exactly once. It uses a generic algorithm provided by pygad library to compute the path.\n",
    "<!-- By the by, it also checks if the graph is Hamiltonian or not.\n",
    "\"Graph G has a Hamiltonian path if and only if its longest path has length n − 1, where n is the number of vertices in G\" -> https://en.wikipedia.org/wiki/Longest_path_problem -->"
   ]
  },
  {
   "cell_type": "code",
   "execution_count": 213,
   "metadata": {},
   "outputs": [],
   "source": [
    "import networkx as nx\n",
    "import random\n",
    "import pygad\n",
    "import matplotlib.pyplot as plt\n",
    "import time\n",
    "import math"
   ]
  },
  {
   "attachments": {},
   "cell_type": "markdown",
   "metadata": {},
   "source": [
    "Implementation of a small directed graph with 8 nodes."
   ]
  },
  {
   "cell_type": "code",
   "execution_count": 214,
   "metadata": {},
   "outputs": [
    {
     "name": "stdout",
     "output_type": "stream",
     "text": [
      "The longest simple path in the small graph is: [0, 1, 4, 3, 6, 7]\n"
     ]
    }
   ],
   "source": [
    "G_small = nx.DiGraph()\n",
    "\n",
    "# Adding nodes\n",
    "G_small.add_nodes_from([0, 1, 2, 3, 4, 5, 6, 7])\n",
    "\n",
    "# Adding edges with weights\n",
    "G_small.add_edge(0, 1, weight=4)\n",
    "G_small.add_edge(0, 2, weight=6)\n",
    "G_small.add_edge(1, 3, weight=2)\n",
    "G_small.add_edge(1, 4, weight=5)\n",
    "G_small.add_edge(2, 3, weight=3)\n",
    "G_small.add_edge(3, 5, weight=1)\n",
    "G_small.add_edge(3, 6, weight=4)\n",
    "G_small.add_edge(4, 3, weight=6)\n",
    "G_small.add_edge(5, 7, weight=1)\n",
    "G_small.add_edge(6, 7, weight=3)\n",
    "\n",
    "# Finding the longest simple path\n",
    "# draw_digraph(G_small)\n",
    "longest_path_small = nx.dag_longest_path(G_small, weight='weight')\n",
    "print(\"The longest simple path in the small graph is:\", longest_path_small)"
   ]
  },
  {
   "attachments": {},
   "cell_type": "markdown",
   "metadata": {},
   "source": [
    "Implementation of a medium directed graph with 14 nodes."
   ]
  },
  {
   "cell_type": "code",
   "execution_count": 215,
   "metadata": {},
   "outputs": [
    {
     "name": "stdout",
     "output_type": "stream",
     "text": [
      "The longest simple path in the medium graph is: [0, 4, 5, 6, 7, 9, 10, 12, 13]\n"
     ]
    }
   ],
   "source": [
    "G_medium = nx.DiGraph()\n",
    "\n",
    "# Adding nodes\n",
    "G_medium.add_nodes_from(range(14))\n",
    "\n",
    "# Adding edges with random weights between 1 and 5\n",
    "for i in range(13):\n",
    "    for j in range(i+1, 14):\n",
    "        if random.random() < 0.3:\n",
    "            weight = random.randint(1, 6)\n",
    "            G_medium.add_edge(i, j, weight=weight)\n",
    "\n",
    "# Finding the longest simple path\n",
    "# draw_digraph(G_medium)\n",
    "longest_path_medium = nx.dag_longest_path(G_medium, weight='weight')\n",
    "print(\"The longest simple path in the medium graph is:\", longest_path_medium)"
   ]
  },
  {
   "attachments": {},
   "cell_type": "markdown",
   "metadata": {},
   "source": [
    "Implementation of a large directed graph with 20 nodes."
   ]
  },
  {
   "cell_type": "code",
   "execution_count": 216,
   "metadata": {},
   "outputs": [
    {
     "name": "stdout",
     "output_type": "stream",
     "text": [
      "The longest simple path in the large graph is: [0, 1, 4, 5, 7, 8, 9, 11, 12, 14, 15, 16, 17, 19]\n"
     ]
    }
   ],
   "source": [
    "G_large = nx.DiGraph()\n",
    "\n",
    "# Adding nodes\n",
    "G_large.add_nodes_from(range(20))\n",
    "\n",
    "# Adding edges with random weights between 1 and 5\n",
    "for i in range(19):\n",
    "    for j in range(i+1, 20):\n",
    "        if random.random() > 0.4:\n",
    "            weight = random.randint(1, 6)\n",
    "            G_large.add_edge(i, j, weight=weight)\n",
    "\n",
    "# Finding the longest simple path\n",
    "# draw_digraph(G_large)\n",
    "longest_path_large = nx.dag_longest_path(G_large, weight='weight')\n",
    "print(\"The longest simple path in the large graph is:\", longest_path_large)"
   ]
  },
  {
   "cell_type": "markdown",
   "metadata": {},
   "source": [
    "Function for creating a random directed graph with a given number of nodes. The graph is created using the networkx library. Each node has a 50% chance of having an edge to another node. The edge weights are random numbers between 1 and 5."
   ]
  },
  {
   "cell_type": "code",
   "execution_count": 217,
   "metadata": {},
   "outputs": [],
   "source": [
    "def generate_digraph(num_nodes):\n",
    "    G = nx.DiGraph()\n",
    "    # Add nodes to the graph\n",
    "    for i in range(num_nodes):\n",
    "        G.add_node(i)\n",
    "    # Add edges to the graph\n",
    "    for i in range(num_nodes):\n",
    "        for j in range(num_nodes):\n",
    "            if i == j:\n",
    "                continue\n",
    "            if random.random() < 0.5:\n",
    "                weight = random.randint(1, 6)\n",
    "                G.add_edge(i, j, weight=weight)\n",
    "    return G"
   ]
  },
  {
   "cell_type": "markdown",
   "metadata": {},
   "source": [
    "Simple function for drawing the graph with weight labels on the edges."
   ]
  },
  {
   "cell_type": "code",
   "execution_count": 218,
   "metadata": {},
   "outputs": [],
   "source": [
    "def draw_digraph(graph):\n",
    "    pos = nx.kamada_kawai_layout(graph)\n",
    "    nx.draw(graph, pos=pos, with_labels=True)\n",
    "    labels = nx.get_edge_attributes(graph, 'weight')\n",
    "    nx.draw_networkx_edge_labels(graph, pos, edge_labels=labels)\n",
    "    plt.show()"
   ]
  },
  {
   "attachments": {},
   "cell_type": "markdown",
   "metadata": {},
   "source": [
    "Normalize solution function is to change the solution from a list of numbers between 0 and 99 which are used to choose indexes of the nodes we want to go to, to the very index of the node. It's used for better readability and because of the way the fitness function is implemented."
   ]
  },
  {
   "cell_type": "code",
   "execution_count": 219,
   "metadata": {},
   "outputs": [],
   "source": [
    "def normalize_solution(graph, solution):\n",
    "    current_node = solution[0] % graph.number_of_nodes()\n",
    "    normalized_solution = [current_node]\n",
    "    \n",
    "    for direction in solution[1:]: # Skip the first node as it is our starting point\n",
    "        if direction % 2 == 1: # This line prevents the algorithm from going back to the previous node (making a cycle)\n",
    "            break\n",
    "        out_edges = list(graph.out_edges(current_node))\n",
    "        if len(out_edges) == 0:\n",
    "            break\n",
    "        normalized_direction = (direction // 2) % len(out_edges)\n",
    "        normalized_solution.append(normalized_direction)\n",
    "        current_node = out_edges[normalized_direction][1]\n",
    "    return normalized_solution"
   ]
  },
  {
   "attachments": {},
   "cell_type": "markdown",
   "metadata": {},
   "source": [
    "Convert solution to path function is to convert the solution from a list of indexes of the nodes to a list of nodes. It's used for better readability at the end of the program and for the fitness function to punish the solutions that go to the same node more than once."
   ]
  },
  {
   "cell_type": "code",
   "execution_count": 220,
   "metadata": {},
   "outputs": [],
   "source": [
    "def convert_solution_to_path(graph, solution):\n",
    "\tnormalized_solution = normalize_solution(graph, solution)\n",
    "\tcurrent_node = normalized_solution[0]\n",
    "\tpath = [current_node]\n",
    "\tfor norm_direction in normalized_solution[1:]:\n",
    "\t\tout_edges = list(graph.out_edges(current_node))\n",
    "\t\tcurrent_node = out_edges[norm_direction][1]\n",
    "\t\tpath.append(current_node)\n",
    "\treturn path"
   ]
  },
  {
   "attachments": {},
   "cell_type": "markdown",
   "metadata": {},
   "source": [
    "Firstly, fitness function normalizes the solution (uses another function), so that it represents indexes of nodes instead of of a \"random number (0, 99) % number of possible nodes to go\". Then, it goes through every element of solution (direction), checks possible edges that we can choose to go through and updates current node with the direction (index) of out edges. It also updates current path length by adding the new edge weight to it. Next, fitness converts the solution to a real path representing numbers of nodes in specific order to go through and checks if any node was visited more than once. If so, it punishes the fitness result harshly, as we only want result paths to be simple. It's worth to mention, that the algorithm selects the starting point itself for better results, because there may be more edges with possibly better paths coming out of node different than, for example the first one in given graph."
   ]
  },
  {
   "cell_type": "code",
   "execution_count": 221,
   "metadata": {},
   "outputs": [],
   "source": [
    "def generate_fitness_function(graph):\n",
    "    def fitness_function(solution, solution_idx):\n",
    "        normalized_solution = normalize_solution(graph, solution)\n",
    "        current_node = normalized_solution[0]\n",
    "        current_path_length = 0\n",
    "        for normalized_direction in normalized_solution[1:]: # Skip the first node as it is our starting point\n",
    "            out_edges = list(graph.out_edges(current_node, data=True))\n",
    "            current_node = out_edges[normalized_direction][1]\n",
    "            current_path_length += out_edges[normalized_direction][2]['weight']\n",
    "\n",
    "        path = convert_solution_to_path(graph, solution)\n",
    "        countByNode = {}\n",
    "        for node in path:\n",
    "            if node not in countByNode:\n",
    "                countByNode[node] = 0\n",
    "            countByNode[node] += 1\n",
    "        for node in countByNode:\n",
    "            countByNode[node] -= 1 # Decrease every node count by 1 so that we don't punish the node for being visited once\n",
    "        fitness = current_path_length\n",
    "        for node in countByNode:\n",
    "            fitness -= 10 * math.pow(countByNode[node], 2) # The more a node is visited, the more we decrease the fitness (square the count to make it more punishing)\n",
    "\n",
    "\n",
    "        return fitness\n",
    "    return fitness_function                                            "
   ]
  },
  {
   "attachments": {},
   "cell_type": "markdown",
   "metadata": {},
   "source": [
    "Initial population is a list of random solutions. Each solution is a list of numbers between 0 and 99, which are used to choose indexes of the nodes we want to go to. The number of solutions is equal to the population size. Note that during algorithm runtime, the solutions values might exceed the range of 0 to 99. There's no statically defined gene space."
   ]
  },
  {
   "cell_type": "code",
   "execution_count": 222,
   "metadata": {},
   "outputs": [],
   "source": [
    "# Define the initial population\n",
    "def create_population(pop_size, nodes_count):\n",
    "    return [[random.randint(0, 100) for _ in range(nodes_count)] for _ in range(pop_size)]"
   ]
  },
  {
   "cell_type": "code",
   "execution_count": 223,
   "metadata": {},
   "outputs": [],
   "source": [
    "# Declare the number of nodes in the graph\n",
    "\n",
    "number_of_nodes = 10"
   ]
  },
  {
   "cell_type": "markdown",
   "metadata": {},
   "source": [
    "The graph that will be used for the genetic algorithm:"
   ]
  },
  {
   "cell_type": "code",
   "execution_count": 224,
   "metadata": {},
   "outputs": [],
   "source": [
    "# graph = generate_digraph(number_of_nodes)\n",
    "graph = G_small"
   ]
  },
  {
   "cell_type": "code",
   "execution_count": 225,
   "metadata": {},
   "outputs": [
    {
     "data": {
      "image/png": "[encoded data removed]",
      "text/plain": [
       "<Figure size 640x480 with 1 Axes>"
      ]
     },
     "metadata": {},
     "output_type": "display_data"
    },
    {
     "name": "stdout",
     "output_type": "stream",
     "text": [
      "Run  1\n",
      "Solution: [ 0 52  2  0 42 12 -2  0]\n",
      "Best solution: [0, 0, 1, 0, 1, 0]\n",
      "Best solution (path): [0, 1, 4, 3, 6, 7]\n",
      "Fitness: 22.0\n",
      "-------------------------------------------\n",
      "Run  2\n",
      "Solution: [ 0  0  2 50  2 -4 -3  5]\n",
      "Best solution: [0, 0, 1, 0, 1, 0]\n",
      "Best solution (path): [0, 1, 4, 3, 6, 7]\n",
      "Fitness: 22.0\n",
      "-------------------------------------------\n",
      "Run  3\n",
      "Solution: [ 0 -4 -2  0 26 62  2 59]\n",
      "Best solution: [0, 0, 1, 0, 1, 0]\n",
      "Best solution (path): [0, 1, 4, 3, 6, 7]\n",
      "Fitness: 22.0\n",
      "-------------------------------------------\n",
      "Run  4\n",
      "Solution: [ 0 44  6 10  2  6  4 -2]\n",
      "Best solution: [0, 0, 1, 0, 1, 0]\n",
      "Best solution (path): [0, 1, 4, 3, 6, 7]\n",
      "Fitness: 22.0\n",
      "-------------------------------------------\n",
      "Run  5\n",
      "Solution: [ 0  8  2 58 -2  4 23  2]\n",
      "Best solution: [0, 0, 1, 0, 1, 0]\n",
      "Best solution (path): [0, 1, 4, 3, 6, 7]\n",
      "Fitness: 22.0\n",
      "-------------------------------------------\n",
      "Average time:  16.38163242340088  s\n",
      "Accuracy:  100.0  %\n"
     ]
    }
   ],
   "source": [
    "times = []\n",
    "correct_solutions = 0\n",
    "iterations = 5\n",
    "draw_digraph(graph)\n",
    "for i in range(iterations):\n",
    "    print(\"Run \", i+1)\n",
    "    start = time.time()\n",
    "    sol_per_pop = 500\n",
    "    ga = pygad.GA(\n",
    "                num_generations=1000,\n",
    "                num_parents_mating=10,\n",
    "                fitness_func=generate_fitness_function(graph),          \n",
    "                sol_per_pop=sol_per_pop,\n",
    "                num_genes=len(graph.nodes),\n",
    "                crossover_type=None, # We don't want to use crossover as it will mess up the path. We fully rely on mutation\n",
    "                mutation_type=\"random\",\n",
    "                initial_population=create_population(sol_per_pop, len(graph.nodes)),\n",
    "                gene_type=int,\n",
    "                mutation_probability=0.1,\n",
    "                random_mutation_max_val=3,\n",
    "                random_mutation_min_val=-3,\n",
    "                keep_parents=10,\n",
    "                )\n",
    "\n",
    "\n",
    "    ga.run()\n",
    "    end = time.time()\n",
    "    times.append(end - start)\n",
    "    # Get the best solution\n",
    "    solution, solution_fitness, _ = ga.best_solution()\n",
    "    if list(convert_solution_to_path(graph, solution)) == list(nx.dag_longest_path(graph, weight='weight')):\n",
    "        correct_solutions += 1\n",
    "    \n",
    "    print(\"Solution:\", solution)\n",
    "    print(\"Best solution:\",  normalize_solution(graph, solution))\n",
    "    print(\"Best solution (path):\",  convert_solution_to_path(graph, solution))\n",
    "    print(\"Fitness:\", solution_fitness)\n",
    "    print(\"-------------------------------------------\")\n",
    "    \n",
    "average_time = 0\n",
    "for time in times:\n",
    "    average_time += time\n",
    "average_time = average_time / len(times)\n",
    "print(\"Average time: \", average_time, \" s\")\n",
    "# Accuracy is the percentage of times the algorithm found the ideal solution. We check it with the \"nx.dag_longest_path\" buit-in function.\n",
    "accuracy = (correct_solutions / iterations) * 100\n",
    "print(\"Accuracy: \", accuracy, \" %\")"
   ]
  },
  {
   "attachments": {},
   "cell_type": "markdown",
   "metadata": {},
   "source": [
    "Bibliography\n",
    "\n",
    "[1] https://en.wikipedia.org/wiki/Longest_path_problem\n",
    "\n",
    "[2] https://networkx.org/documentation/stable/reference/classes/digraph.html\n",
    "\n",
    "[3] https://networkx.org/documentation/stable/reference/algorithms/generated/networkx.algorithms.dag.dag_longest_path.html\n",
    "\n",
    "[4] https://networkx.org/documentation/stable/reference/functions.html\n",
    "\n",
    "[5] https://www.youtube.com/watch?v=YxF-x3imVFA&t=32s"
   ]
  }
 ],
 "metadata": {
  "kernelspec": {
   "display_name": "Python 3",
   "language": "python",
   "name": "python3"
  },
  "language_info": {
   "codemirror_mode": {
    "name": "ipython",
    "version": 3
   },
   "file_extension": ".py",
   "mimetype": "text/x-python",
   "name": "python",
   "nbconvert_exporter": "python",
   "pygments_lexer": "ipython3",
   "version": "3.10.10"
  },
  "orig_nbformat": 4
 },
 "nbformat": 4,
 "nbformat_minor": 2
}
