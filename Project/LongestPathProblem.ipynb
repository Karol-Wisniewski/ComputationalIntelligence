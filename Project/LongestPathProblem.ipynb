{
 "cells": [
  {
   "attachments": {},
   "cell_type": "markdown",
   "metadata": {},
   "source": [
    "The program is to find the longest possible path in a directed graph (doesn't have to be acyclic - the algorithm will try to do its best with it) crossing each node exactly once. It uses a generic algorithm provided by pygad library to compute the path.\n",
    "<!-- By the by, it also checks if the graph is Hamiltonian or not.\n",
    "\"Graph G has a Hamiltonian path if and only if its longest path has length n − 1, where n is the number of vertices in G\" -> https://en.wikipedia.org/wiki/Longest_path_problem -->"
   ]
  },
  {
   "cell_type": "code",
   "execution_count": 10,
   "metadata": {},
   "outputs": [],
   "source": [
    "import networkx as nx\n",
    "import random\n",
    "import pygad\n",
    "import matplotlib.pyplot as plt\n",
    "import time\n",
    "import math"
   ]
  },
  {
   "attachments": {},
   "cell_type": "markdown",
   "metadata": {},
   "source": [
    "Function that generates a graph with given number of nodes. There is a 30% chance that a node will have an edge to another node. Range of weights for each edge is [1, 6]. For testing purposes, the function also returns the longest path in the graph so we can later check if the algorithm found the ideal solution."
   ]
  },
  {
   "cell_type": "code",
   "execution_count": 11,
   "metadata": {},
   "outputs": [],
   "source": [
    "def generate_graph(number_of_nodes):\n",
    "    G = nx.DiGraph()\n",
    "\n",
    "    # Adding nodes\n",
    "    G.add_nodes_from(range(number_of_nodes))\n",
    "\n",
    "    # Adding edges with random weights between 1 and 6\n",
    "    for i in range(number_of_nodes - 1):\n",
    "        for j in range(i+1, number_of_nodes):\n",
    "            if random.random() < 0.3:\n",
    "                weight = random.randint(1, 6)\n",
    "                G.add_edge(i, j, weight=weight)\n",
    "                \n",
    "    longest_path = nx.dag_longest_path(G, weight='weight')\n",
    "    \n",
    "    return [G, longest_path]\n",
    "\n",
    "\n",
    "# Finding the longest simple path\n",
    "# test_graph = generate_graph(8)\n",
    "# draw_digraph(test_graph[0])\n",
    "# longest_path_test_graph = test_graph[1]\n",
    "# print(\"The longest simple path in graph is:\", longest_path_test_graph)"
   ]
  },
  {
   "cell_type": "markdown",
   "metadata": {},
   "source": [
    "Simple function for drawing the graph with weight labels on the edges."
   ]
  },
  {
   "cell_type": "code",
   "execution_count": 12,
   "metadata": {},
   "outputs": [],
   "source": [
    "def draw_digraph(graph):\n",
    "    pos = nx.kamada_kawai_layout(graph)\n",
    "    nx.draw(graph, pos=pos, with_labels=True)\n",
    "    labels = nx.get_edge_attributes(graph, 'weight')\n",
    "    nx.draw_networkx_edge_labels(graph, pos, edge_labels=labels)\n",
    "    plt.show()"
   ]
  },
  {
   "attachments": {},
   "cell_type": "markdown",
   "metadata": {},
   "source": [
    "Normalize solution function is to change the solution from a list of numbers between 0 and 99 which are used to choose indexes of the nodes we want to go to, to the very index of the node. It's used for better readability and because of the way the fitness function is implemented."
   ]
  },
  {
   "cell_type": "code",
   "execution_count": 13,
   "metadata": {},
   "outputs": [],
   "source": [
    "def normalize_solution(graph, solution):\n",
    "    current_node = solution[0] % graph.number_of_nodes()\n",
    "    normalized_solution = [current_node]\n",
    "    \n",
    "    for direction in solution[1:]: # Skip the first node as it is our starting point\n",
    "        if direction % 2 == 1: # This line prevents the algorithm from going back to the previous node (making a cycle)\n",
    "            break\n",
    "        out_edges = list(graph.out_edges(current_node))\n",
    "        if len(out_edges) == 0:\n",
    "            break\n",
    "        normalized_direction = (direction // 2) % len(out_edges)\n",
    "        normalized_solution.append(normalized_direction)\n",
    "        current_node = out_edges[normalized_direction][1]\n",
    "    return normalized_solution"
   ]
  },
  {
   "attachments": {},
   "cell_type": "markdown",
   "metadata": {},
   "source": [
    "Convert solution to path function is to convert the solution from a list of indexes of the nodes to a list of nodes. It's used for better readability at the end of the program and for the fitness function to punish the solutions that go to the same node more than once."
   ]
  },
  {
   "cell_type": "code",
   "execution_count": 14,
   "metadata": {},
   "outputs": [],
   "source": [
    "def convert_solution_to_path(graph, solution):\n",
    "\tnormalized_solution = normalize_solution(graph, solution)\n",
    "\tcurrent_node = normalized_solution[0]\n",
    "\tpath = [current_node]\n",
    "\tfor norm_direction in normalized_solution[1:]:\n",
    "\t\tout_edges = list(graph.out_edges(current_node))\n",
    "\t\tcurrent_node = out_edges[norm_direction][1]\n",
    "\t\tpath.append(current_node)\n",
    "\treturn path"
   ]
  },
  {
   "attachments": {},
   "cell_type": "markdown",
   "metadata": {},
   "source": [
    "Firstly, fitness function normalizes the solution (uses another function), so that it represents indexes of nodes instead of of a \"random number (0, 99) % number of possible nodes to go\". Then, it goes through every element of solution (direction), checks possible edges that we can choose to go through and updates current node with the direction (index) of out edges. It also updates current path length by adding the new edge weight to it. Next, fitness converts the solution to a real path representing numbers of nodes in specific order to go through and checks if any node was visited more than once. If so, it punishes the fitness result harshly, as we only want result paths to be simple. It's worth to mention, that the algorithm selects the starting point itself for better results, because there may be more edges with possibly better paths coming out of node different than, for example the first one in given graph."
   ]
  },
  {
   "cell_type": "code",
   "execution_count": 15,
   "metadata": {},
   "outputs": [],
   "source": [
    "def generate_fitness_function(graph):\n",
    "    def fitness_function(solution, solution_idx):\n",
    "        normalized_solution = normalize_solution(graph, solution)\n",
    "        current_node = normalized_solution[0]\n",
    "        current_path_length = 0\n",
    "        for normalized_direction in normalized_solution[1:]: # Skip the first node as it is our starting point\n",
    "            out_edges = list(graph.out_edges(current_node, data=True))\n",
    "            current_node = out_edges[normalized_direction][1]\n",
    "            current_path_length += out_edges[normalized_direction][2]['weight']\n",
    "\n",
    "        path = convert_solution_to_path(graph, solution)\n",
    "        countByNode = {}\n",
    "        for node in path:\n",
    "            if node not in countByNode:\n",
    "                countByNode[node] = 0\n",
    "            countByNode[node] += 1\n",
    "        for node in countByNode:\n",
    "            countByNode[node] -= 1 # Decrease every node count by 1 so that we don't punish the node for being visited once\n",
    "        fitness = current_path_length\n",
    "        for node in countByNode:\n",
    "            fitness -= 10 * math.pow(countByNode[node], 2) # The more a node is visited, the more we decrease the fitness (square the count to make it more punishing)\n",
    "\n",
    "\n",
    "        return fitness\n",
    "    return fitness_function                                            "
   ]
  },
  {
   "attachments": {},
   "cell_type": "markdown",
   "metadata": {},
   "source": [
    "Initial population is a list of random solutions. Each solution is a list of numbers between 0 and 99, which are used to choose indexes of the nodes we want to go to. The number of solutions is equal to the population size. Note that during algorithm runtime, the solutions values might exceed the range of 0 to 99. There's no statically defined gene space."
   ]
  },
  {
   "cell_type": "code",
   "execution_count": 16,
   "metadata": {},
   "outputs": [],
   "source": [
    "# Define the initial population\n",
    "def create_population(pop_size, nodes_count):\n",
    "    return [[random.randint(0, 100) for _ in range(nodes_count)] for _ in range(pop_size)]"
   ]
  },
  {
   "cell_type": "code",
   "execution_count": 17,
   "metadata": {},
   "outputs": [],
   "source": [
    "# Declare the number of nodes in the graph\n",
    "\n",
    "number_of_nodes = 8"
   ]
  },
  {
   "attachments": {},
   "cell_type": "markdown",
   "metadata": {},
   "source": [
    "Creating an instance of GA algorithm. We use a generate_graph function for each iteration so that every run is different. If the solution for given graph is correct, we measure the time it took to find it and then print an average of all correct solutions times. We're also measuring the accuracy of the algorithm by dividing number of ideal solutions by number of all solutions."
   ]
  },
  {
   "cell_type": "code",
   "execution_count": 18,
   "metadata": {},
   "outputs": [
    {
     "name": "stdout",
     "output_type": "stream",
     "text": [
      "Run  1\n",
      "Best solution (path): [3, 4, 5]\n",
      "Fitness: 6.0\n",
      "-------------------------------------------\n",
      "Run  2\n",
      "Found ideal solution!\n",
      "Best solution (path): [0, 1, 5, 7]\n",
      "Fitness: 14.0\n",
      "-------------------------------------------\n",
      "Run  3\n",
      "Found ideal solution!\n",
      "Best solution (path): [0, 1, 4, 7]\n",
      "Fitness: 17.0\n",
      "-------------------------------------------\n",
      "Run  4\n",
      "Best solution (path): [2, 4, 6, 7]\n",
      "Fitness: 12.0\n",
      "-------------------------------------------\n",
      "Run  5\n",
      "Found ideal solution!\n",
      "Best solution (path): [0, 1, 7]\n",
      "Fitness: 11.0\n",
      "-------------------------------------------\n",
      "Average time:  3.6521663665771484  s\n",
      "Accuracy:  60.0  %\n"
     ]
    }
   ],
   "source": [
    "times = []\n",
    "correct_solutions = 0\n",
    "iterations = 5\n",
    "# draw_digraph(graph)\n",
    "for i in range(iterations):\n",
    "    subject = generate_graph(number_of_nodes)\n",
    "    graph = subject[0]\n",
    "    longest_path = subject[1]\n",
    "    print(\"Run \", i+1)\n",
    "    start = time.time()\n",
    "    sol_per_pop = 200\n",
    "    ga = pygad.GA(\n",
    "                num_generations=700,\n",
    "                num_parents_mating=10,\n",
    "                fitness_func=generate_fitness_function(graph),          \n",
    "                sol_per_pop=sol_per_pop,\n",
    "                num_genes=len(graph.nodes),\n",
    "                crossover_type=None, # We don't want to use crossover as it will mess up the path. We fully rely on mutation\n",
    "                mutation_type=\"random\",\n",
    "                initial_population=create_population(sol_per_pop, len(graph.nodes)),\n",
    "                gene_type=int,\n",
    "                mutation_probability=0.1,\n",
    "                random_mutation_max_val=3,\n",
    "                random_mutation_min_val=-3,\n",
    "                keep_parents=10,\n",
    "                )\n",
    "\n",
    "\n",
    "    ga.run()\n",
    "    end = time.time()\n",
    "    solution, solution_fitness, _ = ga.best_solution()\n",
    "    # If the solution is correct, we add the time it took to the list of times and increase the correct solutions counter.\n",
    "    if list(convert_solution_to_path(graph, solution)) == list(longest_path):\n",
    "        print(\"Found ideal solution!\")\n",
    "        correct_solutions += 1\n",
    "        times.append(end - start)\n",
    "        \n",
    "    # print(\"Solution:\", solution)\n",
    "    # print(\"Best solution:\",  normalize_solution(graph, solution))\n",
    "    print(\"Best solution (path):\",  convert_solution_to_path(graph, solution))\n",
    "    print(\"Fitness:\", solution_fitness)\n",
    "    print(\"-------------------------------------------\")\n",
    "    \n",
    "average_time = 0\n",
    "for time in times:\n",
    "    average_time += time\n",
    "average_time = average_time / len(times)\n",
    "print(\"Average time: \", average_time, \" s\")\n",
    "# Accuracy is the percentage of times the algorithm found the ideal solution. We check it with the \"nx.dag_longest_path\" buit-in function.\n",
    "accuracy = (correct_solutions / iterations) * 100\n",
    "print(\"Accuracy: \", accuracy, \" %\")"
   ]
  },
  {
   "attachments": {},
   "cell_type": "markdown",
   "metadata": {},
   "source": [
    "Average time of finding ideal solutions and their percentage in all results for GA (100 iterations):"
   ]
  },
  {
   "cell_type": "code",
   "execution_count": 19,
   "metadata": {},
   "outputs": [],
   "source": [
    "#   ---------------------------------------------------------------------------------------------------------\n",
    "#   |   Graph size   |   Generations   |   Sol_per_pop   |   Average time   |   Accuracy   |   Total time   | \n",
    "#   |-------------------------------------------------------------------------------------------------------|\n",
    "#   |   8            |   1000          |   400           |   9.81s          |   94%        |   16m 19s      |\n",
    "#   |-------------------------------------------------------------------------------------------------------|\n",
    "#   |   14           |   1500          |   500           |   24.79s         |   83%        |   41m 21s      |\n",
    "#   |-------------------------------------------------------------------------------------------------------|\n",
    "#   |   20           |   1500          |   700           |   36.06s         |   63%        |   60m 23s      |\n",
    "#   ---------------------------------------------------------------------------------------------------------"
   ]
  },
  {
   "attachments": {},
   "cell_type": "markdown",
   "metadata": {},
   "source": [
    "Bibliography\n",
    "\n",
    "[1] https://en.wikipedia.org/wiki/Longest_path_problem\n",
    "\n",
    "[2] https://networkx.org/documentation/stable/reference/classes/digraph.html\n",
    "\n",
    "[3] https://networkx.org/documentation/stable/reference/algorithms/generated/networkx.algorithms.dag.dag_longest_path.html\n",
    "\n",
    "[4] https://networkx.org/documentation/stable/reference/functions.html\n",
    "\n",
    "[5] https://www.youtube.com/watch?v=YxF-x3imVFA&t=32s"
   ]
  }
 ],
 "metadata": {
  "kernelspec": {
   "display_name": "Python 3",
   "language": "python",
   "name": "python3"
  },
  "language_info": {
   "codemirror_mode": {
    "name": "ipython",
    "version": 3
   },
   "file_extension": ".py",
   "mimetype": "text/x-python",
   "name": "python",
   "nbconvert_exporter": "python",
   "pygments_lexer": "ipython3",
   "version": "3.10.10"
  },
  "orig_nbformat": 4
 },
 "nbformat": 4,
 "nbformat_minor": 2
}
