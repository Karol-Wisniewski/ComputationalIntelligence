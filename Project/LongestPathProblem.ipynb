{
 "cells": [
  {
   "attachments": {},
   "cell_type": "markdown",
   "metadata": {},
   "source": [
    "The program is to find the longest possible path in a directed graph (doesn't have to be acyclic - the algorithm will try to do its best with it) crossing each node exactly once. It uses a generic algorithm provided by pygad library to compute the path.\n",
    "<!-- By the by, it also checks if the graph is Hamiltonian or not.\n",
    "\"Graph G has a Hamiltonian path if and only if its longest path has length n − 1, where n is the number of vertices in G\" -> https://en.wikipedia.org/wiki/Longest_path_problem -->"
   ]
  },
  {
   "cell_type": "code",
   "execution_count": 14,
   "metadata": {},
   "outputs": [],
   "source": [
    "import networkx as nx\n",
    "import random\n",
    "import pygad\n",
    "import matplotlib.pyplot as plt\n",
    "import time\n",
    "import math"
   ]
  },
  {
   "attachments": {},
   "cell_type": "markdown",
   "metadata": {},
   "source": [
    "Implementation of a small directed graph with 8 nodes."
   ]
  },
  {
   "cell_type": "code",
   "execution_count": 15,
   "metadata": {},
   "outputs": [
    {
     "name": "stdout",
     "output_type": "stream",
     "text": [
      "The longest simple path in the small graph is: [0, 1, 3, 5, 7]\n"
     ]
    }
   ],
   "source": [
    "G_small = nx.DiGraph()\n",
    "\n",
    "# Adding nodes\n",
    "G_small.add_nodes_from([0, 1, 2, 3, 4, 5, 6, 7])\n",
    "\n",
    "# Adding edges with weights\n",
    "G_small.add_edge(0, 1, weight=2)\n",
    "G_small.add_edge(0, 2, weight=3)\n",
    "G_small.add_edge(1, 3, weight=4)\n",
    "G_small.add_edge(1, 4, weight=2)\n",
    "G_small.add_edge(2, 3, weight=1)\n",
    "G_small.add_edge(3, 5, weight=3)\n",
    "G_small.add_edge(3, 6, weight=2)\n",
    "G_small.add_edge(4, 3, weight=1)\n",
    "G_small.add_edge(5, 7, weight=5)\n",
    "G_small.add_edge(6, 7, weight=4)\n",
    "\n",
    "# Finding the longest simple path\n",
    "# draw_digraph(G_small)\n",
    "longest_path_small = nx.dag_longest_path(G_small, weight='weight')\n",
    "print(\"The longest simple path in the small graph is:\", longest_path_small)"
   ]
  },
  {
   "attachments": {},
   "cell_type": "markdown",
   "metadata": {},
   "source": [
    "Implementation of a medium directed graph with 16 nodes."
   ]
  },
  {
   "cell_type": "code",
   "execution_count": 16,
   "metadata": {},
   "outputs": [
    {
     "name": "stdout",
     "output_type": "stream",
     "text": [
      "The longest simple path in the medium graph is: [2, 3, 4, 5, 10, 11, 13, 14, 15]\n"
     ]
    }
   ],
   "source": [
    "G_medium = nx.DiGraph()\n",
    "\n",
    "# Adding nodes\n",
    "G_medium.add_nodes_from(range(16))\n",
    "\n",
    "# Adding edges with random weights between 1 and 5\n",
    "for i in range(15):\n",
    "    for j in range(i+1, 16):\n",
    "        if random.random() < 0.3:\n",
    "            weight = random.randint(1, 5)\n",
    "            G_medium.add_edge(i, j, weight=weight)\n",
    "\n",
    "# Finding the longest simple path\n",
    "# draw_digraph(G_medium)\n",
    "longest_path_medium = nx.dag_longest_path(G_medium, weight='weight')\n",
    "print(\"The longest simple path in the medium graph is:\", longest_path_medium)"
   ]
  },
  {
   "attachments": {},
   "cell_type": "markdown",
   "metadata": {},
   "source": [
    "Implementation of a large directed graph with 30 nodes."
   ]
  },
  {
   "cell_type": "code",
   "execution_count": 17,
   "metadata": {},
   "outputs": [
    {
     "name": "stdout",
     "output_type": "stream",
     "text": [
      "The longest simple path in the large graph is: [0, 3, 4, 5, 6, 8, 9, 10, 12, 13, 16, 17, 19, 20, 23, 24, 25, 28]\n"
     ]
    }
   ],
   "source": [
    "G_large = nx.DiGraph()\n",
    "\n",
    "# Adding nodes\n",
    "G_large.add_nodes_from(range(30))\n",
    "\n",
    "# Adding edges with random weights between 1 and 5\n",
    "for i in range(29):\n",
    "    for j in range(i+1, 30):\n",
    "        if random.random() > 0.4:\n",
    "            weight = random.randint(1, 5)\n",
    "            G_large.add_edge(i, j, weight=weight)\n",
    "\n",
    "# Finding the longest simple path\n",
    "# draw_digraph(G_large)\n",
    "longest_path_large = nx.dag_longest_path(G_large, weight='weight')\n",
    "print(\"The longest simple path in the large graph is:\", longest_path_large)"
   ]
  },
  {
   "cell_type": "markdown",
   "metadata": {},
   "source": [
    "Function for creating a random directed graph with a given number of nodes. The graph is created using the networkx library. Each node has a 50% chance of having an edge to another node. The edge weights are random numbers between 1 and 5."
   ]
  },
  {
   "cell_type": "code",
   "execution_count": 18,
   "metadata": {},
   "outputs": [],
   "source": [
    "def generate_digraph(num_nodes):\n",
    "    G = nx.DiGraph()\n",
    "    # Add nodes to the graph\n",
    "    for i in range(num_nodes):\n",
    "        G.add_node(i)\n",
    "    # Add edges to the graph\n",
    "    for i in range(num_nodes):\n",
    "        for j in range(num_nodes):\n",
    "            if i == j:\n",
    "                continue\n",
    "            if random.random() < 0.5:\n",
    "                weight = random.randint(1, 5)\n",
    "                G.add_edge(i, j, weight=weight)\n",
    "    return G"
   ]
  },
  {
   "cell_type": "markdown",
   "metadata": {},
   "source": [
    "Simple function for drawing the graph with weight labels on the edges."
   ]
  },
  {
   "cell_type": "code",
   "execution_count": 19,
   "metadata": {},
   "outputs": [],
   "source": [
    "def draw_digraph(graph):\n",
    "    pos = nx.kamada_kawai_layout(graph)\n",
    "    nx.draw(graph, pos=pos, with_labels=True)\n",
    "    labels = nx.get_edge_attributes(graph, 'weight')\n",
    "    nx.draw_networkx_edge_labels(graph, pos, edge_labels=labels)\n",
    "    plt.show()"
   ]
  },
  {
   "attachments": {},
   "cell_type": "markdown",
   "metadata": {},
   "source": [
    "Normalize solution function is to change the solution from a list of numbers between 0 and 99 which are used to choose indexes of the nodes we want to go to, to the very index of the node. It's used for better readability and because of the way the fitness function is implemented."
   ]
  },
  {
   "cell_type": "code",
   "execution_count": 20,
   "metadata": {},
   "outputs": [],
   "source": [
    "def normalize_solution(graph, solution):\n",
    "    current_node = solution[0] % graph.number_of_nodes()\n",
    "    normalized_solution = [current_node]\n",
    "    \n",
    "    for direction in solution[1:]: # Skip the first node as it is our starting point\n",
    "        if direction % 2 == 1:\n",
    "            break\n",
    "        out_edges = list(graph.out_edges(current_node))\n",
    "        if len(out_edges) == 0:\n",
    "            break\n",
    "        normalized_direction = (direction // 2) % len(out_edges)\n",
    "        normalized_solution.append(normalized_direction)\n",
    "        current_node = out_edges[normalized_direction][1]\n",
    "    return normalized_solution"
   ]
  },
  {
   "attachments": {},
   "cell_type": "markdown",
   "metadata": {},
   "source": [
    "Convert solution to path function is to convert the solution from a list of indexes of the nodes to a list of nodes. It's used for better readability at the end of the program and for the fitness function to punish the solutions that go to the same node more than once."
   ]
  },
  {
   "cell_type": "code",
   "execution_count": 21,
   "metadata": {},
   "outputs": [],
   "source": [
    "def convert_solution_to_path(graph, solution):\n",
    "\tnormalized_solution = normalize_solution(graph, solution)\n",
    "\tcurrent_node = normalized_solution[0]\n",
    "\tpath = [current_node]\n",
    "\tfor norm_direction in normalized_solution[1:]:\n",
    "\t\tout_edges = list(graph.out_edges(current_node))\n",
    "\t\tcurrent_node = out_edges[norm_direction][1]\n",
    "\t\tpath.append(current_node)\n",
    "\treturn path"
   ]
  },
  {
   "attachments": {},
   "cell_type": "markdown",
   "metadata": {},
   "source": [
    "Firstly, fitness function normalizes the solution (uses another function), so that it represents indexes of nodes instead of of a \"random number (0, 99) % number of possible nodes to go\". Then, it goes through every element of solution (direction), checks possible edges that we can choose to go through and updates current node with the direction (index) of out edges. It also updates current path length by adding the new edge weight to it. Next, fitness converts the solution to a real path representing numbers of nodes in specific order to go through and checks if any node was visited more than once. If so, it punishes the fitness result harshly, as we only want result paths to be simple. It's worth to mention, that the algorithm selects the starting point itself for better results, because there may be more edges with possibly better paths coming out of node different than, for example the first one in given graph."
   ]
  },
  {
   "cell_type": "code",
   "execution_count": 22,
   "metadata": {},
   "outputs": [],
   "source": [
    "def generate_fitness_function(graph):\n",
    "    def fitness_function(solution, solution_idx):\n",
    "        normalized_solution = normalize_solution(graph, solution)\n",
    "        current_node = normalized_solution[0]\n",
    "        current_path_length = 0\n",
    "        for normalized_direction in normalized_solution[1:]: #skip the first node as it is our starting point\n",
    "            out_edges = list(graph.out_edges(current_node, data=True))\n",
    "            current_node = out_edges[normalized_direction][1]\n",
    "            current_path_length += out_edges[normalized_direction][2]['weight']\n",
    "\n",
    "        path = convert_solution_to_path(graph, solution)\n",
    "        countByNode = {}\n",
    "        for node in path:\n",
    "            if node not in countByNode:\n",
    "                countByNode[node] = 0\n",
    "            countByNode[node] += 1\n",
    "        for node in countByNode:\n",
    "            countByNode[node] -= 1 # decrease every node count by 1 so that we don't punish the node for being visited once\n",
    "        fitness = current_path_length\n",
    "        for node in countByNode:\n",
    "            fitness -= 10 * math.pow(countByNode[node], 2) #the more a node is visited, the more we decrease the fitness (square the count to make it more punishing)\n",
    "\n",
    "\n",
    "        return fitness\n",
    "    return fitness_function                                            "
   ]
  },
  {
   "cell_type": "code",
   "execution_count": 23,
   "metadata": {},
   "outputs": [],
   "source": [
    "# Define the initial population\n",
    "def create_population(pop_size, nodes_count):\n",
    "    return [[random.randint(0, 100) for _ in range(nodes_count)] for _ in range(pop_size)]"
   ]
  },
  {
   "cell_type": "code",
   "execution_count": 24,
   "metadata": {},
   "outputs": [],
   "source": [
    "#Declare the number of nodes in the graph\n",
    "\n",
    "number_of_nodes = 10"
   ]
  },
  {
   "cell_type": "code",
   "execution_count": 25,
   "metadata": {},
   "outputs": [],
   "source": [
    "# graph = generate_digraph(number_of_nodes)\n",
    "graph = G_small"
   ]
  },
  {
   "cell_type": "code",
   "execution_count": 26,
   "metadata": {},
   "outputs": [
    {
     "data": {
      "image/png": "[encoded data removed]",
      "text/plain": [
       "<Figure size 640x480 with 1 Axes>"
      ]
     },
     "metadata": {},
     "output_type": "display_data"
    },
    {
     "name": "stdout",
     "output_type": "stream",
     "text": [
      "Run  1\n",
      "Best solution: [0, 0, 0, 0, 0]\n",
      "Best solution (path): [0, 1, 3, 5, 7]\n",
      "Fitness: 14.0\n",
      "-------------------------------------------\n",
      "Run  2\n",
      "Best solution: [0, 0, 0, 0, 0]\n",
      "Best solution (path): [0, 1, 3, 5, 7]\n",
      "Fitness: 14.0\n",
      "-------------------------------------------\n",
      "Run  3\n",
      "Best solution: [0, 0, 0, 0, 0]\n",
      "Best solution (path): [0, 1, 3, 5, 7]\n",
      "Fitness: 14.0\n",
      "-------------------------------------------\n",
      "Run  4\n",
      "Best solution: [0, 0, 0, 0, 0]\n",
      "Best solution (path): [0, 1, 3, 5, 7]\n",
      "Fitness: 14.0\n",
      "-------------------------------------------\n",
      "Run  5\n",
      "Best solution: [0, 0, 0, 0, 0]\n",
      "Best solution (path): [0, 1, 3, 5, 7]\n",
      "Fitness: 14.0\n",
      "-------------------------------------------\n",
      "Run  6\n",
      "Best solution: [0, 0, 0, 0, 0]\n",
      "Best solution (path): [0, 1, 3, 5, 7]\n",
      "Fitness: 14.0\n",
      "-------------------------------------------\n",
      "Run  7\n",
      "Best solution: [0, 0, 0, 0, 0]\n",
      "Best solution (path): [0, 1, 3, 5, 7]\n",
      "Fitness: 14.0\n",
      "-------------------------------------------\n",
      "Run  8\n",
      "Best solution: [0, 0, 0, 0, 0]\n",
      "Best solution (path): [0, 1, 3, 5, 7]\n",
      "Fitness: 14.0\n",
      "-------------------------------------------\n",
      "Run  9\n",
      "Best solution: [0, 0, 0, 0, 0]\n",
      "Best solution (path): [0, 1, 3, 5, 7]\n",
      "Fitness: 14.0\n",
      "-------------------------------------------\n",
      "Run  10\n",
      "Best solution: [0, 0, 0, 0, 0]\n",
      "Best solution (path): [0, 1, 3, 5, 7]\n",
      "Fitness: 14.0\n",
      "-------------------------------------------\n",
      "Average time:  6.249237704277038  s\n"
     ]
    }
   ],
   "source": [
    "times = []\n",
    "draw_digraph(graph)\n",
    "for i in range(10):\n",
    "    print(\"Run \", i+1)\n",
    "    start = time.time()\n",
    "    sol_per_pop = 200\n",
    "    ga = pygad.GA(\n",
    "                num_generations=1000,\n",
    "                num_parents_mating=10,\n",
    "                fitness_func=generate_fitness_function(graph),          \n",
    "                sol_per_pop=sol_per_pop,\n",
    "                num_genes=len(graph.nodes),\n",
    "                crossover_type=None,\n",
    "                mutation_type=\"random\",\n",
    "                # parent_selection_type = \"tournament\",\n",
    "                # mutation_num_genes=3,\n",
    "                initial_population=create_population(sol_per_pop, len(graph.nodes)),\n",
    "                gene_type=int,\n",
    "                mutation_probability=0.1,\n",
    "                # mutation_percent_genes=10\n",
    "                random_mutation_max_val=3,\n",
    "                random_mutation_min_val=-3,\n",
    "                keep_parents=10,\n",
    "                )\n",
    "\n",
    "\n",
    "    ga.run()\n",
    "    end = time.time()\n",
    "    times.append(end - start)\n",
    "    # Get the best solution\n",
    "    solution, solution_fitness, _ = ga.best_solution()\n",
    "    print(\"Best solution:\",  normalize_solution(graph, solution))\n",
    "    print(\"Best solution (path):\",  convert_solution_to_path(graph, solution))\n",
    "    print(\"Fitness:\", solution_fitness)\n",
    "    print(\"-------------------------------------------\")\n",
    "    \n",
    "average_time = 0\n",
    "for time in times:\n",
    "    average_time += time\n",
    "average_time = average_time / len(times)\n",
    "print(\"Average time: \", average_time, \" s\")"
   ]
  }
 ],
 "metadata": {
  "kernelspec": {
   "display_name": "Python 3",
   "language": "python",
   "name": "python3"
  },
  "language_info": {
   "codemirror_mode": {
    "name": "ipython",
    "version": 3
   },
   "file_extension": ".py",
   "mimetype": "text/x-python",
   "name": "python",
   "nbconvert_exporter": "python",
   "pygments_lexer": "ipython3",
   "version": "3.10.10"
  },
  "orig_nbformat": 4
 },
 "nbformat": 4,
 "nbformat_minor": 2
}
