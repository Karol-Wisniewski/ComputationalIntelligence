{
 "cells": [
  {
   "cell_type": "code",
   "execution_count": 627,
   "metadata": {},
   "outputs": [],
   "source": [
    "import pandas as pd \n",
    "from sklearn.model_selection import train_test_split "
   ]
  },
  {
   "cell_type": "code",
   "execution_count": 628,
   "metadata": {},
   "outputs": [],
   "source": [
    "df = pd.read_csv(\"iris.csv\") \n",
    " \n",
    "(train_set, test_set) = train_test_split(df.values, train_size=0.7, \n",
    "random_state=274964)"
   ]
  },
  {
   "attachments": {},
   "cell_type": "markdown",
   "metadata": {},
   "source": [
    "The parameters used in classify_iris function were deducted from sorted train_set analysis. The numbers were firstly chosen in an integer form, then in the way of tries and errors, they were changed to double numbers."
   ]
  },
  {
   "cell_type": "code",
   "execution_count": 629,
   "metadata": {},
   "outputs": [],
   "source": [
    "def classify_iris(sl, sw, pl, pw): \n",
    "    if sl > 4 and sl < 7.9 and sw > 2.9 and sw < 5 and pl > 1 and pl < 2 and pw < 1:\n",
    "        return(\"setosa\") \n",
    "    elif pl <= 7 and pl > 4.9 and pw <= 3 and pw > 1.4 and sl > 5.5 and sl < 8 and sw > 2 and sw < 4: \n",
    "        return(\"virginica\") \n",
    "    else: \n",
    "        return(\"versicolor\")"
   ]
  },
  {
   "cell_type": "code",
   "execution_count": 630,
   "metadata": {},
   "outputs": [],
   "source": [
    "correct_guesses = 0\n",
    "all_guesses = len(test_set)"
   ]
  },
  {
   "cell_type": "code",
   "execution_count": 631,
   "metadata": {},
   "outputs": [],
   "source": [
    "for iris in test_set:\n",
    "    if iris[4] == classify_iris(iris[0], iris[1], iris[2], iris[3]): \n",
    "        correct_guesses += 1"
   ]
  },
  {
   "cell_type": "code",
   "execution_count": 632,
   "metadata": {},
   "outputs": [
    {
     "name": "stdout",
     "output_type": "stream",
     "text": [
      "Total guesses: 45\n",
      "Correct guesses: 41\n",
      "Accuracy: 91.11111111111111 %\n"
     ]
    }
   ],
   "source": [
    "print(\"Total guesses: \" + str(all_guesses))\n",
    "print(\"Correct guesses: \" + str(correct_guesses))\n",
    "print(\"Accuracy: \" + str(correct_guesses/all_guesses * 100) + \" %\")"
   ]
  },
  {
   "cell_type": "code",
   "execution_count": 633,
   "metadata": {},
   "outputs": [],
   "source": [
    "#sort test_set by iris type\n",
    "# train_set = train_set[train_set[:,4].argsort()]\n",
    "# print(train_set)"
   ]
  }
 ],
 "metadata": {
  "kernelspec": {
   "display_name": "Python 3",
   "language": "python",
   "name": "python3"
  },
  "language_info": {
   "codemirror_mode": {
    "name": "ipython",
    "version": 3
   },
   "file_extension": ".py",
   "mimetype": "text/x-python",
   "name": "python",
   "nbconvert_exporter": "python",
   "pygments_lexer": "ipython3",
   "version": "3.10.10"
  },
  "orig_nbformat": 4
 },
 "nbformat": 4,
 "nbformat_minor": 2
}
