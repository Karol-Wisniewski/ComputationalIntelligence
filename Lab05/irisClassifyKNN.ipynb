{
 "cells": [
  {
   "cell_type": "code",
   "execution_count": 84,
   "metadata": {},
   "outputs": [],
   "source": [
    "import pandas as pd\n",
    "from sklearn.model_selection import train_test_split\n",
    "from sklearn.tree import DecisionTreeClassifier\n",
    "from sklearn.neighbors import KNeighborsClassifier\n",
    "from sklearn.naive_bayes import GaussianNB\n",
    "from sklearn.metrics import accuracy_score, confusion_matrix"
   ]
  },
  {
   "cell_type": "code",
   "execution_count": 85,
   "metadata": {},
   "outputs": [],
   "source": [
    "df = pd.read_csv('iris.csv')"
   ]
  },
  {
   "cell_type": "code",
   "execution_count": 86,
   "metadata": {},
   "outputs": [],
   "source": [
    "X = df[['sepal.length', 'sepal.width', 'petal.length', 'petal.width']] # cechy\n",
    "y = df['species'] # etykiety"
   ]
  },
  {
   "cell_type": "code",
   "execution_count": 87,
   "metadata": {},
   "outputs": [],
   "source": [
    "X_train, X_test, y_train, y_test = train_test_split(X, y, train_size=0.7, random_state=274964)"
   ]
  },
  {
   "cell_type": "code",
   "execution_count": 88,
   "metadata": {},
   "outputs": [],
   "source": [
    "knn3 = KNeighborsClassifier(n_neighbors=3)\n",
    "knn5 = KNeighborsClassifier(n_neighbors=5)\n",
    "knn11 = KNeighborsClassifier(n_neighbors=11)\n",
    "naive_bayes = GaussianNB()"
   ]
  },
  {
   "cell_type": "code",
   "execution_count": 89,
   "metadata": {},
   "outputs": [],
   "source": [
    "classifiers = [('3NN', knn3), ('5NN', knn5), ('11NN', knn11), ('NB', naive_bayes), ('DD', DecisionTreeClassifier())]"
   ]
  },
  {
   "attachments": {},
   "cell_type": "markdown",
   "metadata": {},
   "source": [
    "Training and evaluation of classifiers "
   ]
  },
  {
   "cell_type": "code",
   "execution_count": 90,
   "metadata": {},
   "outputs": [
    {
     "name": "stdout",
     "output_type": "stream",
     "text": [
      "3NN - Accuracy: 93.33333333333333 %\n",
      "Confusion matrix for 3NN:\n",
      "[[16  0  0]\n",
      " [ 0 13  3]\n",
      " [ 0  0 13]]\n",
      "\n",
      "5NN - Accuracy: 93.33333333333333 %\n",
      "Confusion matrix for 5NN:\n",
      "[[16  0  0]\n",
      " [ 0 13  3]\n",
      " [ 0  0 13]]\n",
      "\n",
      "11NN - Accuracy: 97.77777777777777 %\n",
      "Confusion matrix for 11NN:\n",
      "[[16  0  0]\n",
      " [ 0 15  1]\n",
      " [ 0  0 13]]\n",
      "\n",
      "NB - Accuracy: 95.55555555555556 %\n",
      "Confusion matrix for NB:\n",
      "[[16  0  0]\n",
      " [ 0 15  1]\n",
      " [ 0  1 12]]\n",
      "\n",
      "DD - Accuracy: 86.66666666666667 %\n",
      "Confusion matrix for DD:\n",
      "[[16  0  0]\n",
      " [ 0 11  5]\n",
      " [ 0  1 12]]\n",
      "\n"
     ]
    }
   ],
   "source": [
    "for name, clf in classifiers:\n",
    "    clf.fit(X_train, y_train)\n",
    "    y_pred = clf.predict(X_test)\n",
    "    accuracy = accuracy_score(y_test, y_pred)\n",
    "    cm = confusion_matrix(y_test, y_pred)\n",
    "\n",
    "    print(f'{name} - Accuracy: {accuracy * 100} %')\n",
    "    print(f'Confusion matrix for {name}:\\n{cm}\\n')"
   ]
  },
  {
   "attachments": {},
   "cell_type": "markdown",
   "metadata": {},
   "source": [
    "11NN turned out to be the best of the classifiers, automatically trained decision tree is still the worst."
   ]
  }
 ],
 "metadata": {
  "kernelspec": {
   "display_name": "Python 3",
   "language": "python",
   "name": "python3"
  },
  "language_info": {
   "codemirror_mode": {
    "name": "ipython",
    "version": 3
   },
   "file_extension": ".py",
   "mimetype": "text/x-python",
   "name": "python",
   "nbconvert_exporter": "python",
   "pygments_lexer": "ipython3",
   "version": "3.10.10"
  },
  "orig_nbformat": 4
 },
 "nbformat": 4,
 "nbformat_minor": 2
}
