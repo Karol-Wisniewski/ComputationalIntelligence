{
 "cells": [
  {
   "cell_type": "code",
   "execution_count": 20,
   "metadata": {},
   "outputs": [],
   "source": [
    "from matplotlib import pyplot as plt\n",
    "import random\n",
    "from aco import AntColony\n",
    "import time"
   ]
  },
  {
   "cell_type": "code",
   "execution_count": 21,
   "metadata": {},
   "outputs": [],
   "source": [
    "\n",
    "COORDS = (\n",
    "    (20, 52),\n",
    "    (43, 50),\n",
    "    (20, 84),\n",
    "    (70, 65),\n",
    "    (29, 90),\n",
    "    (87, 83),\n",
    "    (73, 23),\n",
    "    (51, 83),\n",
    "    (26, 52),\n",
    "    (12, 34),\n",
    "    (30, 21)\n",
    ")"
   ]
  },
  {
   "cell_type": "code",
   "execution_count": 22,
   "metadata": {},
   "outputs": [],
   "source": [
    "def random_coord():\n",
    "    r = random.randint(0, len(COORDS))\n",
    "    return r\n",
    "\n",
    "\n",
    "def plot_nodes(w=12, h=8):\n",
    "    for x, y in COORDS:\n",
    "        plt.plot(x, y, \"g.\", markersize=15)\n",
    "    plt.axis(\"off\")\n",
    "    fig = plt.gcf()\n",
    "    fig.set_size_inches([w, h])\n",
    "\n",
    "\n",
    "def plot_all_edges():\n",
    "    paths = ((a, b) for a in COORDS for b in COORDS)\n",
    "\n",
    "    for a, b in paths:\n",
    "        plt.plot((a[0], b[0]), (a[1], b[1]))"
   ]
  },
  {
   "cell_type": "code",
   "execution_count": 23,
   "metadata": {},
   "outputs": [
    {
     "name": "stdout",
     "output_type": "stream",
     "text": [
      "iteration:  1\n",
      "iteration:  2\n",
      "iteration:  3\n",
      "iteration:  4\n",
      "iteration:  5\n",
      "iteration:  6\n",
      "iteration:  7\n",
      "iteration:  8\n",
      "iteration:  9\n",
      "iteration:  10\n",
      "iteration:  11\n",
      "iteration:  12\n",
      "iteration:  13\n",
      "iteration:  14\n",
      "iteration:  15\n",
      "iteration:  16\n",
      "iteration:  17\n",
      "iteration:  18\n",
      "iteration:  19\n",
      "iteration:  20\n",
      "iteration:  21\n",
      "iteration:  22\n",
      "iteration:  23\n",
      "iteration:  24\n",
      "iteration:  25\n",
      "iteration:  26\n",
      "iteration:  27\n",
      "iteration:  28\n",
      "iteration:  29\n",
      "iteration:  30\n",
      "iteration:  31\n",
      "iteration:  32\n",
      "iteration:  33\n",
      "iteration:  34\n",
      "iteration:  35\n",
      "iteration:  36\n",
      "iteration:  37\n",
      "iteration:  38\n",
      "iteration:  39\n",
      "iteration:  40\n",
      "iteration:  41\n",
      "iteration:  42\n",
      "iteration:  43\n",
      "iteration:  44\n",
      "iteration:  45\n",
      "iteration:  46\n",
      "iteration:  47\n",
      "iteration:  48\n",
      "iteration:  49\n",
      "iteration:  50\n",
      "iteration:  51\n",
      "iteration:  52\n",
      "iteration:  53\n",
      "iteration:  54\n",
      "iteration:  55\n",
      "iteration:  56\n",
      "iteration:  57\n",
      "iteration:  58\n",
      "iteration:  59\n",
      "iteration:  60\n",
      "iteration:  61\n",
      "iteration:  62\n",
      "iteration:  63\n",
      "iteration:  64\n",
      "iteration:  65\n",
      "iteration:  66\n",
      "iteration:  67\n",
      "iteration:  68\n",
      "iteration:  69\n",
      "iteration:  70\n",
      "iteration:  71\n",
      "iteration:  72\n",
      "iteration:  73\n",
      "iteration:  74\n",
      "iteration:  75\n",
      "iteration:  76\n",
      "iteration:  77\n",
      "iteration:  78\n",
      "iteration:  79\n",
      "iteration:  80\n",
      "iteration:  81\n",
      "iteration:  82\n",
      "iteration:  83\n",
      "iteration:  84\n",
      "iteration:  85\n",
      "iteration:  86\n",
      "iteration:  87\n",
      "iteration:  88\n",
      "iteration:  89\n",
      "iteration:  90\n",
      "iteration:  91\n",
      "iteration:  92\n",
      "iteration:  93\n",
      "iteration:  94\n",
      "iteration:  95\n",
      "iteration:  96\n",
      "iteration:  97\n",
      "iteration:  98\n",
      "iteration:  99\n",
      "iteration:  100\n",
      "iteration:  101\n",
      "iteration:  102\n",
      "iteration:  103\n",
      "iteration:  104\n",
      "iteration:  105\n",
      "iteration:  106\n",
      "iteration:  107\n",
      "iteration:  108\n",
      "iteration:  109\n",
      "iteration:  110\n",
      "iteration:  111\n",
      "iteration:  112\n",
      "iteration:  113\n",
      "iteration:  114\n",
      "iteration:  115\n",
      "iteration:  116\n",
      "iteration:  117\n",
      "iteration:  118\n",
      "iteration:  119\n",
      "iteration:  120\n",
      "iteration:  121\n",
      "iteration:  122\n",
      "iteration:  123\n",
      "iteration:  124\n",
      "iteration:  125\n",
      "iteration:  126\n",
      "iteration:  127\n",
      "iteration:  128\n",
      "iteration:  129\n",
      "iteration:  130\n",
      "iteration:  131\n",
      "iteration:  132\n",
      "iteration:  133\n",
      "iteration:  134\n"
     ]
    },
    {
     "ename": "KeyboardInterrupt",
     "evalue": "",
     "output_type": "error",
     "traceback": [
      "\u001b[1;31m---------------------------------------------------------------------------\u001b[0m",
      "\u001b[1;31mKeyboardInterrupt\u001b[0m                         Traceback (most recent call last)",
      "Cell \u001b[1;32mIn[23], line 10\u001b[0m\n\u001b[0;32m      8\u001b[0m time_start \u001b[39m=\u001b[39m time\u001b[39m.\u001b[39mtime() \n\u001b[0;32m      9\u001b[0m ant_count, alpha, beta, pheromone_evaporation_rate, pheromone_constant, iterations \u001b[39m=\u001b[39m i\n\u001b[1;32m---> 10\u001b[0m colony \u001b[39m=\u001b[39m AntColony(COORDS, \n\u001b[0;32m     11\u001b[0m                    ant_count\u001b[39m=\u001b[39;49mant_count, \n\u001b[0;32m     12\u001b[0m                    alpha\u001b[39m=\u001b[39;49malpha, \n\u001b[0;32m     13\u001b[0m                    beta\u001b[39m=\u001b[39;49mbeta,\n\u001b[0;32m     14\u001b[0m                    pheromone_evaporation_rate\u001b[39m=\u001b[39;49mpheromone_evaporation_rate, \n\u001b[0;32m     15\u001b[0m                    pheromone_constant\u001b[39m=\u001b[39;49mpheromone_constant, \n\u001b[0;32m     16\u001b[0m                    iterations\u001b[39m=\u001b[39;49miterations)\n\u001b[0;32m     17\u001b[0m times\u001b[39m.\u001b[39mappend(time\u001b[39m.\u001b[39mtime() \u001b[39m-\u001b[39m time_start)\n",
      "File \u001b[1;32m~\\AppData\\Local\\Packages\\PythonSoftwareFoundation.Python.3.10_qbz5n2kfra8p0\\LocalCache\\local-packages\\Python310\\site-packages\\aco\\__init__.py:177\u001b[0m, in \u001b[0;36mAntColony.__init__\u001b[1;34m(self, nodes, start, ant_count, alpha, beta, pheromone_evaporation_rate, pheromone_constant, iterations)\u001b[0m\n\u001b[0;32m    175\u001b[0m     ant \u001b[39m=\u001b[39m \u001b[39mself\u001b[39m\u001b[39m.\u001b[39minit_ant(i)\n\u001b[0;32m    176\u001b[0m     \u001b[39mself\u001b[39m\u001b[39m.\u001b[39mantArray\u001b[39m.\u001b[39mappend(ant)\n\u001b[1;32m--> 177\u001b[0m     ant\u001b[39m.\u001b[39;49mstart()\n\u001b[0;32m    179\u001b[0m \u001b[39mfor\u001b[39;00m ant \u001b[39min\u001b[39;00m \u001b[39mself\u001b[39m\u001b[39m.\u001b[39mantArray:\n\u001b[0;32m    180\u001b[0m     ant\u001b[39m.\u001b[39mjoin()\n",
      "File \u001b[1;32mC:\\Program Files\\WindowsApps\\PythonSoftwareFoundation.Python.3.10_3.10.2800.0_x64__qbz5n2kfra8p0\\lib\\threading.py:940\u001b[0m, in \u001b[0;36mThread.start\u001b[1;34m(self)\u001b[0m\n\u001b[0;32m    938\u001b[0m         \u001b[39mdel\u001b[39;00m _limbo[\u001b[39mself\u001b[39m]\n\u001b[0;32m    939\u001b[0m     \u001b[39mraise\u001b[39;00m\n\u001b[1;32m--> 940\u001b[0m \u001b[39mself\u001b[39;49m\u001b[39m.\u001b[39;49m_started\u001b[39m.\u001b[39;49mwait()\n",
      "File \u001b[1;32mC:\\Program Files\\WindowsApps\\PythonSoftwareFoundation.Python.3.10_3.10.2800.0_x64__qbz5n2kfra8p0\\lib\\threading.py:607\u001b[0m, in \u001b[0;36mEvent.wait\u001b[1;34m(self, timeout)\u001b[0m\n\u001b[0;32m    605\u001b[0m signaled \u001b[39m=\u001b[39m \u001b[39mself\u001b[39m\u001b[39m.\u001b[39m_flag\n\u001b[0;32m    606\u001b[0m \u001b[39mif\u001b[39;00m \u001b[39mnot\u001b[39;00m signaled:\n\u001b[1;32m--> 607\u001b[0m     signaled \u001b[39m=\u001b[39m \u001b[39mself\u001b[39;49m\u001b[39m.\u001b[39;49m_cond\u001b[39m.\u001b[39;49mwait(timeout)\n\u001b[0;32m    608\u001b[0m \u001b[39mreturn\u001b[39;00m signaled\n",
      "File \u001b[1;32mC:\\Program Files\\WindowsApps\\PythonSoftwareFoundation.Python.3.10_3.10.2800.0_x64__qbz5n2kfra8p0\\lib\\threading.py:320\u001b[0m, in \u001b[0;36mCondition.wait\u001b[1;34m(self, timeout)\u001b[0m\n\u001b[0;32m    318\u001b[0m \u001b[39mtry\u001b[39;00m:    \u001b[39m# restore state no matter what (e.g., KeyboardInterrupt)\u001b[39;00m\n\u001b[0;32m    319\u001b[0m     \u001b[39mif\u001b[39;00m timeout \u001b[39mis\u001b[39;00m \u001b[39mNone\u001b[39;00m:\n\u001b[1;32m--> 320\u001b[0m         waiter\u001b[39m.\u001b[39;49macquire()\n\u001b[0;32m    321\u001b[0m         gotit \u001b[39m=\u001b[39m \u001b[39mTrue\u001b[39;00m\n\u001b[0;32m    322\u001b[0m     \u001b[39melse\u001b[39;00m:\n",
      "\u001b[1;31mKeyboardInterrupt\u001b[0m: "
     ]
    },
    {
     "data": {
      "image/png": "[encoded data removed]",
      "text/plain": [
       "<Figure size 1200x800 with 1 Axes>"
      ]
     },
     "metadata": {},
     "output_type": "display_data"
    }
   ],
   "source": [
    "plot_nodes()\n",
    "\n",
    "colony_args = [[300, 0.5, 1, 0.2, 900, 300], [300, 0.3, 1.2, 0.6, 700, 300], \n",
    "               [300, 0.5, 1.3, 0.6, 1100, 300], [300, 0.4, 1.4, 0.4, 800, 300]]\n",
    "\n",
    "times=[]\n",
    "for i in colony_args:\n",
    "    time_start = time.time() \n",
    "    ant_count, alpha, beta, pheromone_evaporation_rate, pheromone_constant, iterations = i\n",
    "    colony = AntColony(COORDS, \n",
    "                       ant_count=ant_count, \n",
    "                       alpha=alpha, \n",
    "                       beta=beta,\n",
    "                       pheromone_evaporation_rate=pheromone_evaporation_rate, \n",
    "                       pheromone_constant=pheromone_constant, \n",
    "                       iterations=iterations)\n",
    "    times.append(time.time() - time_start)"
   ]
  },
  {
   "cell_type": "code",
   "execution_count": null,
   "metadata": {},
   "outputs": [
    {
     "name": "stdout",
     "output_type": "stream",
     "text": [
      "[37.34655499458313, 38.08094835281372, 36.44788908958435, 36.683693647384644]\n"
     ]
    }
   ],
   "source": [
    "print(times)"
   ]
  },
  {
   "attachments": {},
   "cell_type": "markdown",
   "metadata": {},
   "source": [
    "Czasy są do siebie bardzo podobne."
   ]
  },
  {
   "cell_type": "code",
   "execution_count": null,
   "metadata": {},
   "outputs": [
    {
     "name": "stdout",
     "output_type": "stream",
     "text": [
      "307.8545020499434\n"
     ]
    },
    {
     "data": {
      "image/png": "[encoded data removed]",
      "text/plain": [
       "<Figure size 640x480 with 1 Axes>"
      ]
     },
     "metadata": {},
     "output_type": "display_data"
    }
   ],
   "source": [
    "optimal_nodes = colony.get_path()\n",
    "\n",
    "for i in range(len(optimal_nodes) - 1):\n",
    "    plt.plot(\n",
    "        (optimal_nodes[i][0], optimal_nodes[i + 1][0]),\n",
    "        (optimal_nodes[i][1], optimal_nodes[i + 1][1]),\n",
    "    )\n",
    "\n",
    "\n",
    "plt.show()"
   ]
  }
 ],
 "metadata": {
  "kernelspec": {
   "display_name": "Python 3",
   "language": "python",
   "name": "python3"
  },
  "language_info": {
   "codemirror_mode": {
    "name": "ipython",
    "version": 3
   },
   "file_extension": ".py",
   "mimetype": "text/x-python",
   "name": "python",
   "nbconvert_exporter": "python",
   "pygments_lexer": "ipython3",
   "version": "3.10.11"
  },
  "orig_nbformat": 4
 },
 "nbformat": 4,
 "nbformat_minor": 2
}
