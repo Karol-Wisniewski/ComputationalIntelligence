{
 "cells": [
  {
   "cell_type": "code",
   "execution_count": 8,
   "metadata": {},
   "outputs": [],
   "source": [
    "import pandas as pd\n",
    "from sklearn.model_selection import train_test_split\n",
    "df = pd.read_csv(\"iris.csv\")\n",
    "(train_set, test_set) = train_test_split(df.values, train_size=0.7,\n",
    "random_state=2723743473)"
   ]
  },
  {
   "cell_type": "code",
   "execution_count": 9,
   "metadata": {},
   "outputs": [
    {
     "data": {
      "text/plain": [
       "DecisionTreeClassifier()"
      ]
     },
     "execution_count": 9,
     "metadata": {},
     "output_type": "execute_result"
    }
   ],
   "source": [
    "from sklearn import tree\n",
    "clf = tree.DecisionTreeClassifier()\n",
    "clf.fit(train_set[:, :-1], train_set[:, -1])"
   ]
  },
  {
   "cell_type": "code",
   "execution_count": 21,
   "metadata": {},
   "outputs": [
    {
     "name": "stdout",
     "output_type": "stream",
     "text": [
      "['sepallength' 'sepalwidth' 'petallength' 'petalwidth']\n",
      "|--- petalwidth <= 0.70\n",
      "|   |--- class: setosa\n",
      "|--- petalwidth >  0.70\n",
      "|   |--- petallength <= 4.75\n",
      "|   |   |--- petalwidth <= 1.65\n",
      "|   |   |   |--- class: versicolor\n",
      "|   |   |--- petalwidth >  1.65\n",
      "|   |   |   |--- class: virginica\n",
      "|   |--- petallength >  4.75\n",
      "|   |   |--- petallength <= 4.95\n",
      "|   |   |   |--- petalwidth <= 1.65\n",
      "|   |   |   |   |--- class: versicolor\n",
      "|   |   |   |--- petalwidth >  1.65\n",
      "|   |   |   |   |--- sepalwidth <= 3.10\n",
      "|   |   |   |   |   |--- class: virginica\n",
      "|   |   |   |   |--- sepalwidth >  3.10\n",
      "|   |   |   |   |   |--- class: versicolor\n",
      "|   |   |--- petallength >  4.95\n",
      "|   |   |   |--- class: virginica\n",
      "\n"
     ]
    }
   ],
   "source": [
    "print(tree.export_text(clf, feature_names=list(df.columns.values[:-1])))"
   ]
  },
  {
   "cell_type": "code",
   "execution_count": 33,
   "metadata": {},
   "outputs": [
    {
     "name": "stdout",
     "output_type": "stream",
     "text": [
      "Accuracy: 0.9555555555555556\n"
     ]
    }
   ],
   "source": [
    "def benchmark(clf, test_set):\n",
    "\tpredictions = clf.predict(test_set[:, :-1])\n",
    "\tcorrectCount = 0\n",
    "\tfor i in range(len(test_set)):\n",
    "\t\tif predictions[i] == test_set[i][-1]:\n",
    "\t\t\tcorrectCount += 1\n",
    "\treturn correctCount / len(test_set)\n",
    "\n",
    "print(\"Accuracy:\", benchmark(clf, test_set))"
   ]
  },
  {
   "cell_type": "code",
   "execution_count": 35,
   "metadata": {},
   "outputs": [
    {
     "name": "stdout",
     "output_type": "stream",
     "text": [
      "[[14  0  0]\n",
      " [ 0 13  2]\n",
      " [ 0  0 16]]\n",
      "              precision    recall  f1-score   support\n",
      "\n",
      "      setosa       1.00      1.00      1.00        14\n",
      "  versicolor       1.00      0.87      0.93        15\n",
      "   virginica       0.89      1.00      0.94        16\n",
      "\n",
      "    accuracy                           0.96        45\n",
      "   macro avg       0.96      0.96      0.96        45\n",
      "weighted avg       0.96      0.96      0.96        45\n",
      "\n"
     ]
    }
   ],
   "source": [
    "from sklearn.metrics import confusion_matrix, classification_report\n",
    "print(confusion_matrix(test_set[:, -1], clf.predict(test_set[:, :-1])))\n",
    "print(classification_report(test_set[:, -1], clf.predict(test_set[:, :-1])))"
   ]
  }
 ],
 "metadata": {
  "interpreter": {
   "hash": "e7370f93d1d0cde622a1f8e1c04877d8463912d04d973331ad4851f04de6915a"
  },
  "kernelspec": {
   "display_name": "Python 3.10.4 64-bit",
   "language": "python",
   "name": "python3"
  },
  "language_info": {
   "codemirror_mode": {
    "name": "ipython",
    "version": 3
   },
   "file_extension": ".py",
   "mimetype": "text/x-python",
   "name": "python",
   "nbconvert_exporter": "python",
   "pygments_lexer": "ipython3",
   "version": "3.10.4"
  },
  "orig_nbformat": 4
 },
 "nbformat": 4,
 "nbformat_minor": 2
}
