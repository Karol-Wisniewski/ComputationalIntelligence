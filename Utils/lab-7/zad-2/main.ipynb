{
 "cells": [
  {
   "cell_type": "code",
   "execution_count": 18,
   "metadata": {},
   "outputs": [],
   "source": [
    "import pandas as pd\n",
    "from sklearn.model_selection import train_test_split\n",
    "df = pd.read_csv(\"iris.csv\")\n",
    "(train_set, test_set) = train_test_split(df.values, train_size=0.7,\n",
    "random_state=2723743473)"
   ]
  },
  {
   "cell_type": "code",
   "execution_count": 19,
   "metadata": {},
   "outputs": [],
   "source": [
    "def naive_classify_iris(sl, sw, pl, pw):\n",
    "\tif sl > 4:\n",
    "\t\treturn(\"setosa\")\n",
    "\tif pl <= 5:\n",
    "\t\treturn(\"virginica\")\n",
    "\treturn(\"versicolor\")"
   ]
  },
  {
   "cell_type": "code",
   "execution_count": 20,
   "metadata": {},
   "outputs": [],
   "source": [
    "def evaluate_classifier(iris_data, classifier):\n",
    "\tcorrectCount = 0\n",
    "\tfor row in iris_data:\n",
    "\t\tsl = row[0]\n",
    "\t\tsw = row[1]\n",
    "\t\tpl = row[2]\n",
    "\t\tpw = row[3]\n",
    "\t\tcl = row[4]\n",
    "\t\tprediction = classifier(sl, sw, pl, pw)\n",
    "\t\tif prediction == cl:\n",
    "\t\t\tcorrectCount += 1\n",
    "\treturn correctCount / len(iris_data)"
   ]
  },
  {
   "cell_type": "code",
   "execution_count": 21,
   "metadata": {},
   "outputs": [],
   "source": [
    "def classification_benchmark(iris_data, classifier):\n",
    "\tprint(\n",
    "\t\tclassifier.__name__,\n",
    "\t\t\"accuracy:\", \n",
    "\t\tevaluate_classifier(iris_data, classifier),\n",
    "\t)"
   ]
  },
  {
   "cell_type": "code",
   "execution_count": 22,
   "metadata": {},
   "outputs": [
    {
     "name": "stdout",
     "output_type": "stream",
     "text": [
      "naive_classify_iris accuracy: 0.34285714285714286\n"
     ]
    }
   ],
   "source": [
    "classification_benchmark(train_set, naive_classify_iris)"
   ]
  },
  {
   "cell_type": "code",
   "execution_count": 23,
   "metadata": {},
   "outputs": [
    {
     "name": "stdout",
     "output_type": "stream",
     "text": [
      "['sepallength' 'sepalwidth' 'petallength' 'petalwidth' 'class']\n",
      "[4.7 3.2 1.3 0.2 'setosa']\n",
      "[5.4 3.9 1.3 0.4 'setosa']\n",
      "[4.6 3.2 1.4 0.2 'setosa']\n",
      "[5.0 3.3 1.4 0.2 'setosa']\n",
      "[4.9 3.0 1.4 0.2 'setosa']\n",
      "[5.4 3.4 1.7 0.2 'setosa']\n",
      "[4.5 2.3 1.3 0.3 'setosa']\n",
      "[4.7 3.2 1.6 0.2 'setosa']\n",
      "[4.6 3.6 1.0 0.2 'setosa']\n",
      "[4.6 3.1 1.5 0.2 'setosa']\n",
      "[4.4 3.2 1.3 0.2 'setosa']\n",
      "[5.1 3.5 1.4 0.2 'setosa']\n",
      "[4.4 2.9 1.4 0.2 'setosa']\n",
      "[5.4 3.7 1.5 0.2 'setosa']\n",
      "[5.5 4.2 1.4 0.2 'setosa']\n",
      "[5.0 3.4 1.5 0.2 'setosa']\n",
      "[5.7 4.4 1.5 0.4 'setosa']\n",
      "[5.4 3.9 1.7 0.4 'setosa']\n",
      "[4.8 3.4 1.6 0.2 'setosa']\n",
      "[5.5 3.5 1.3 0.2 'setosa']\n",
      "[5.8 4.0 1.2 0.2 'setosa']\n",
      "[4.8 3.4 1.9 0.2 'setosa']\n",
      "[5.0 3.6 1.4 0.2 'setosa']\n",
      "[5.1 3.8 1.5 0.3 'setosa']\n",
      "[4.8 3.0 1.4 0.3 'setosa']\n",
      "[5.2 4.1 1.5 0.1 'setosa']\n",
      "[5.0 3.0 1.6 0.2 'setosa']\n",
      "[5.1 3.5 1.4 0.3 'setosa']\n",
      "[4.4 3.0 1.3 0.2 'setosa']\n",
      "[4.6 3.4 1.4 0.3 'setosa']\n",
      "[5.2 3.4 1.4 0.2 'setosa']\n",
      "[5.0 3.5 1.3 0.3 'setosa']\n",
      "[5.4 3.4 1.5 0.4 'setosa']\n",
      "[4.9 3.1 1.5 0.1 'setosa']\n",
      "[5.3 3.7 1.5 0.2 'setosa']\n",
      "[5.1 3.8 1.9 0.4 'setosa']\n",
      "[6.4 2.9 4.3 1.3 'versicolor']\n",
      "[6.0 3.4 4.5 1.6 'versicolor']\n",
      "[6.1 3.0 4.6 1.4 'versicolor']\n",
      "[5.0 2.0 3.5 1.0 'versicolor']\n",
      "[6.3 3.3 4.7 1.6 'versicolor']\n",
      "[5.7 2.8 4.1 1.3 'versicolor']\n",
      "[6.6 3.0 4.4 1.4 'versicolor']\n",
      "[5.9 3.2 4.8 1.8 'versicolor']\n",
      "[5.2 2.7 3.9 1.4 'versicolor']\n",
      "[6.2 2.2 4.5 1.5 'versicolor']\n",
      "[5.6 3.0 4.5 1.5 'versicolor']\n",
      "[5.5 2.5 4.0 1.3 'versicolor']\n",
      "[5.7 2.6 3.5 1.0 'versicolor']\n",
      "[6.6 2.9 4.6 1.3 'versicolor']\n",
      "[7.0 3.2 4.7 1.4 'versicolor']\n",
      "[5.8 2.6 4.0 1.2 'versicolor']\n",
      "[5.9 3.0 4.2 1.5 'versicolor']\n",
      "[5.7 2.8 4.5 1.3 'versicolor']\n",
      "[6.5 2.8 4.6 1.5 'versicolor']\n",
      "[5.5 2.4 3.8 1.1 'versicolor']\n",
      "[6.7 3.1 4.7 1.5 'versicolor']\n",
      "[5.1 2.5 3.0 1.1 'versicolor']\n",
      "[5.5 2.3 4.0 1.3 'versicolor']\n",
      "[6.3 2.5 4.9 1.5 'versicolor']\n",
      "[4.9 2.4 3.3 1.0 'versicolor']\n",
      "[5.6 3.0 4.1 1.3 'versicolor']\n",
      "[6.1 2.8 4.7 1.2 'versicolor']\n",
      "[5.4 3.0 4.5 1.5 'versicolor']\n",
      "[5.6 2.5 3.9 1.1 'versicolor']\n",
      "[5.6 2.9 3.6 1.3 'versicolor']\n",
      "[6.1 2.9 4.7 1.4 'versicolor']\n",
      "[5.8 2.7 4.1 1.0 'versicolor']\n",
      "[6.0 2.9 4.5 1.5 'versicolor']\n",
      "[5.7 2.9 4.2 1.3 'versicolor']\n",
      "[6.7 3.1 4.4 1.4 'versicolor']\n",
      "[6.4 3.1 5.5 1.8 'virginica']\n",
      "[6.3 2.8 5.1 1.5 'virginica']\n",
      "[6.8 3.2 5.9 2.3 'virginica']\n",
      "[6.8 3.0 5.5 2.1 'virginica']\n",
      "[6.4 3.2 5.3 2.3 'virginica']\n",
      "[5.9 3.0 5.1 1.8 'virginica']\n",
      "[7.7 2.8 6.7 2.0 'virginica']\n",
      "[6.4 2.7 5.3 1.9 'virginica']\n",
      "[6.3 2.9 5.6 1.8 'virginica']\n",
      "[6.7 3.0 5.2 2.3 'virginica']\n",
      "[7.2 3.0 5.8 1.6 'virginica']\n",
      "[6.3 3.4 5.6 2.4 'virginica']\n",
      "[7.6 3.0 6.6 2.1 'virginica']\n",
      "[6.2 2.8 4.8 1.8 'virginica']\n",
      "[7.2 3.2 6.0 1.8 'virginica']\n",
      "[7.7 2.6 6.9 2.3 'virginica']\n",
      "[5.7 2.5 5.0 2.0 'virginica']\n",
      "[6.4 2.8 5.6 2.2 'virginica']\n",
      "[4.9 2.5 4.5 1.7 'virginica']\n",
      "[7.4 2.8 6.1 1.9 'virginica']\n",
      "[6.3 2.7 4.9 1.8 'virginica']\n",
      "[7.3 2.9 6.3 1.8 'virginica']\n",
      "[7.9 3.8 6.4 2.0 'virginica']\n",
      "[5.8 2.7 5.1 1.9 'virginica']\n",
      "[6.4 2.8 5.6 2.1 'virginica']\n",
      "[6.1 3.0 4.9 1.8 'virginica']\n",
      "[6.7 3.3 5.7 2.1 'virginica']\n",
      "[6.7 2.5 5.8 1.8 'virginica']\n",
      "[7.2 3.6 6.1 2.5 'virginica']\n",
      "[6.3 3.3 6.0 2.5 'virginica']\n",
      "[7.7 3.8 6.7 2.2 'virginica']\n",
      "[6.5 3.0 5.5 1.8 'virginica']\n",
      "[6.0 3.0 4.8 1.8 'virginica']\n",
      "[6.7 3.3 5.7 2.5 'virginica']\n"
     ]
    }
   ],
   "source": [
    "train_set_sorted_by_class = sorted(train_set, key=lambda x: x[4])\n",
    "print(df.columns.values)\n",
    "for row in train_set_sorted_by_class:\n",
    "\tprint(row)"
   ]
  },
  {
   "cell_type": "code",
   "execution_count": 24,
   "metadata": {},
   "outputs": [],
   "source": [
    "def naive_classify_iris_2(sl, sw, pl, pw):\n",
    "\tif pl * pw < 2.7:\n",
    "\t\treturn(\"setosa\")\n",
    "\tif sl / sw > 1.85 and pl * pw > 7.6:\n",
    "\t\treturn(\"virginica\")\n",
    "\treturn(\"versicolor\")"
   ]
  },
  {
   "cell_type": "code",
   "execution_count": 25,
   "metadata": {},
   "outputs": [
    {
     "name": "stdout",
     "output_type": "stream",
     "text": [
      "naive_classify_iris_2 accuracy: 1.0\n"
     ]
    }
   ],
   "source": [
    "classification_benchmark(train_set, naive_classify_iris_2)"
   ]
  }
 ],
 "metadata": {
  "interpreter": {
   "hash": "e7370f93d1d0cde622a1f8e1c04877d8463912d04d973331ad4851f04de6915a"
  },
  "kernelspec": {
   "display_name": "Python 3.10.4 64-bit",
   "language": "python",
   "name": "python3"
  },
  "language_info": {
   "codemirror_mode": {
    "name": "ipython",
    "version": 3
   },
   "file_extension": ".py",
   "mimetype": "text/x-python",
   "name": "python",
   "nbconvert_exporter": "python",
   "pygments_lexer": "ipython3",
   "version": "3.10.4"
  },
  "orig_nbformat": 4
 },
 "nbformat": 4,
 "nbformat_minor": 2
}
